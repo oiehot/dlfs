{
 "cells": [
  {
   "cell_type": "code",
   "execution_count": 26,
   "metadata": {},
   "outputs": [],
   "source": [
    "class MulLayer:\n",
    "  \"\"\"곱셈 계층\n",
    "  \"\"\"\n",
    "  def __init__(self):\n",
    "    self.x = None\n",
    "    self.y = None\n",
    "  \n",
    "  def forward(self, x, y):\n",
    "    self.x = x\n",
    "    self.y = y\n",
    "    return x * y\n",
    "  \n",
    "  def backward(self, dout):\n",
    "    dx = dout * self.y\n",
    "    dy = dout * self.x\n",
    "    return dx, dy"
   ]
  },
  {
   "cell_type": "code",
   "execution_count": 27,
   "metadata": {},
   "outputs": [
    {
     "name": "stdout",
     "output_type": "stream",
     "text": [
      "220.00000000000003\n",
      "1 1.1 200 2.2 110.00000000000001\n"
     ]
    }
   ],
   "source": [
    "\"\"\"\n",
    "곱셉 계층의 순전파, 역전파 테스트\n",
    "\"\"\"\n",
    "\n",
    "apple = 100\n",
    "apple_num = 2\n",
    "tax_rate = 1.1\n",
    "\n",
    "mul_apple_layer = MulLayer()\n",
    "mul_tax_layer = MulLayer()\n",
    "\n",
    "# 순전파\n",
    "apple_price = mul_apple_layer.forward(apple, apple_num)\n",
    "price = mul_tax_layer.forward(apple_price, tax_rate)\n",
    "print(price)\n",
    "\n",
    "# 역전파\n",
    "dprice = 1\n",
    "dapple_price, dtax = mul_tax_layer.backward(dprice)\n",
    "dapple, dapple_num = mul_apple_layer.backward(dapple_price)\n",
    "print(dprice, dapple_price, dtax, dapple, dapple_num)"
   ]
  },
  {
   "cell_type": "code",
   "execution_count": 28,
   "metadata": {},
   "outputs": [],
   "source": [
    "class AddLayer:\n",
    "  def __init__(self):\n",
    "    pass\n",
    "\n",
    "  def forward(self, x, y):\n",
    "    return x + y\n",
    "  \n",
    "  def backward(self, dout):\n",
    "    dx = dout * 1\n",
    "    dy = dout * 1\n",
    "    return dx, dy"
   ]
  },
  {
   "cell_type": "code",
   "execution_count": 29,
   "metadata": {},
   "outputs": [
    {
     "name": "stdout",
     "output_type": "stream",
     "text": [
      "apple_price: 100\n",
      "apple_num: 2\n",
      "orange_price: 150\n",
      "orange_num: 3\n",
      "tax_rate: 1.1\n",
      "apple_total_price: 200\n",
      "orange_total_price: 450\n",
      "total_price: 650\n",
      "final_price: 715.0000000000001\n",
      "d_final_price: 1\n",
      "d_total_price: 1.1\n",
      "d_tax: 650\n",
      "d_apple_total_price: 1.1\n",
      "d_orange_total_price: 1.1\n",
      "d_apple_price: 2.2\n",
      "d_apple_num: 110.00000000000001\n",
      "d_orange_price: 3.3000000000000003\n",
      "d_orange_num: 165.0\n"
     ]
    }
   ],
   "source": [
    "\"\"\"\n",
    "곱셈, 덧셈 계층의 순전파, 역전파 테스트\n",
    "\"\"\"\n",
    "\n",
    "apple_price = 100\n",
    "apple_num = 2\n",
    "orange_price = 150\n",
    "orange_num = 3\n",
    "tax_rate = 1.1\n",
    "\n",
    "# 계층들\n",
    "mul_apple_price = MulLayer()\n",
    "mul_orange_price = MulLayer()\n",
    "add_apple_orange_price = AddLayer()\n",
    "mul_tax = MulLayer()\n",
    "\n",
    "# 순전파\n",
    "apple_total_price = mul_apple_price.forward(apple_price, apple_num)\n",
    "orange_total_price = mul_orange_price.forward(orange_price, orange_num)\n",
    "total_price = add_apple_orange_price.forward(apple_total_price, orange_total_price)\n",
    "final_price = mul_tax.forward(total_price, tax_rate)\n",
    "print(\"apple_price:\", apple_price)\n",
    "print(\"apple_num:\", apple_num)\n",
    "print(\"orange_price:\", orange_price)\n",
    "print(\"orange_num:\", orange_num)\n",
    "print(\"tax_rate:\", tax_rate)\n",
    "print(\"apple_total_price:\", apple_total_price)\n",
    "print(\"orange_total_price:\", orange_total_price)\n",
    "print(\"total_price:\", total_price)\n",
    "print(\"final_price:\", final_price)\n",
    "\n",
    "# 역전파\n",
    "d_final_price = 1\n",
    "d_total_price, d_tax = mul_tax.backward(d_final_price)\n",
    "d_apple_total_price, d_orange_total_price = add_apple_orange_price.backward(d_total_price)\n",
    "d_apple_price, d_apple_num = mul_apple_price.backward(d_apple_total_price)\n",
    "d_orange_price, d_orange_num = mul_orange_price.backward(d_orange_total_price)\n",
    "print(\"d_final_price:\", d_final_price)\n",
    "print(\"d_total_price:\", d_total_price)\n",
    "print(\"d_tax:\", d_tax)\n",
    "print(\"d_apple_total_price:\", d_apple_total_price)\n",
    "print(\"d_orange_total_price:\", d_orange_total_price)\n",
    "print(\"d_apple_price:\", d_apple_price)\n",
    "print(\"d_apple_num:\", d_apple_num)\n",
    "print(\"d_orange_price:\", d_orange_price)\n",
    "print(\"d_orange_num:\", d_orange_num)\n"
   ]
  }
 ],
 "metadata": {
  "kernelspec": {
   "display_name": "Python 3",
   "language": "python",
   "name": "python3"
  },
  "language_info": {
   "codemirror_mode": {
    "name": "ipython",
    "version": 3
   },
   "file_extension": ".py",
   "mimetype": "text/x-python",
   "name": "python",
   "nbconvert_exporter": "python",
   "pygments_lexer": "ipython3",
   "version": "3.10.6"
  }
 },
 "nbformat": 4,
 "nbformat_minor": 2
}
