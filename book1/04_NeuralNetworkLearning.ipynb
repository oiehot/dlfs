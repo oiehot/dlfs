{
 "cells": [
  {
   "cell_type": "code",
   "execution_count": 1,
   "metadata": {},
   "outputs": [
    {
     "name": "stdout",
     "output_type": "stream",
     "text": [
      "y:  [0.1  0.05 0.6  0.   0.05 0.1  0.   0.1  0.   0.  ]\n",
      "t:  [0 0 1 0 0 0 0 0 0 0]\n",
      "mean_squared_error(y,t):  0.09750000000000003\n",
      "y2:  [0.1  0.05 0.1  0.   0.05 0.1  0.   0.6  0.   0.  ]\n",
      "mean_squared_error(y2,t):  0.5975\n"
     ]
    }
   ],
   "source": [
    "# 1. 평균 제곱 오차 함수\n",
    "\n",
    "import numpy as np\n",
    "\n",
    "y = np.array([0.1, 0.05, 0.6, 0.0, 0.05, 0.1, 0.0, 0.1, 0.0, 0.0])\n",
    "y2 =np.array([0.1, 0.05, 0.1, 0.0, 0.05, 0.1, 0.0, 0.6, 0.0, 0.0])\n",
    "t = np.array([0, 0, 1, 0, 0, 0, 0, 0, 0, 0])\n",
    "\n",
    "def mean_squared_error(y, t):\n",
    "  \"\"\"평균제곱오차mean squared error,MSE\n",
    "  \"\"\"\n",
    "  return 0.5 * np.sum((y-t)**2)\n",
    "\n",
    "print(\"y: \", y)\n",
    "print(\"t: \", t)\n",
    "print(\"mean_squared_error(y,t): \", mean_squared_error(y,t))\n",
    "print(\"y2: \", y2)\n",
    "print(\"mean_squared_error(y2,t): \", mean_squared_error(y2,t))"
   ]
  },
  {
   "cell_type": "code",
   "execution_count": 2,
   "metadata": {},
   "outputs": [
    {
     "name": "stdout",
     "output_type": "stream",
     "text": [
      "y:  [0.1  0.05 0.6  0.   0.05 0.1  0.   0.1  0.   0.  ]\n",
      "t:  [0 0 1 0 0 0 0 0 0 0]\n",
      "cross_entropy_error(y,t):  0.510825457099338\n",
      "y2:  [0.1  0.05 0.1  0.   0.05 0.1  0.   0.6  0.   0.  ]\n",
      "cross_entropy_error(y2,t):  2.302584092994546\n"
     ]
    }
   ],
   "source": [
    "# 2. 교차 엔트로피 오차 함수\n",
    "\n",
    "def cross_entropy_error(y, t):\n",
    "  \"\"\"교차 엔트로피 오차cross entropy error,CEE\n",
    "  \"\"\"\n",
    "  delta = 1e-7 # np.log(0)을 피하기 위하여 작은 값을 더해준다.\n",
    "  return -np.sum(t * np.log(y + delta))\n",
    "\n",
    "print(\"y: \", y)\n",
    "print(\"t: \", t)\n",
    "print(\"cross_entropy_error(y,t): \", cross_entropy_error(y,t))\n",
    "print(\"y2: \", y2)\n",
    "print(\"cross_entropy_error(y2,t): \", cross_entropy_error(y2,t))"
   ]
  },
  {
   "cell_type": "code",
   "execution_count": 3,
   "metadata": {},
   "outputs": [
    {
     "name": "stdout",
     "output_type": "stream",
     "text": [
      "x_train.shape:  (60000, 784)\n",
      "t_train.shape:  (60000, 10)\n",
      "train_size:  60000\n",
      "batch_size:  10\n",
      "batch_mask:  [25009 54310 39133 12196 55802 18659 44512  6390 43105 13914]\n",
      "x_batch:  [[0. 0. 0. ... 0. 0. 0.]\n",
      " [0. 0. 0. ... 0. 0. 0.]\n",
      " [0. 0. 0. ... 0. 0. 0.]\n",
      " ...\n",
      " [0. 0. 0. ... 0. 0. 0.]\n",
      " [0. 0. 0. ... 0. 0. 0.]\n",
      " [0. 0. 0. ... 0. 0. 0.]]\n",
      "t_batch:  [[0. 0. 0. 0. 0. 0. 0. 1. 0. 0.]\n",
      " [0. 1. 0. 0. 0. 0. 0. 0. 0. 0.]\n",
      " [0. 0. 0. 0. 0. 0. 0. 1. 0. 0.]\n",
      " [0. 0. 1. 0. 0. 0. 0. 0. 0. 0.]\n",
      " [0. 0. 0. 0. 0. 0. 0. 1. 0. 0.]\n",
      " [0. 1. 0. 0. 0. 0. 0. 0. 0. 0.]\n",
      " [0. 0. 0. 0. 0. 0. 0. 1. 0. 0.]\n",
      " [0. 0. 0. 0. 0. 0. 0. 0. 1. 0.]\n",
      " [0. 0. 1. 0. 0. 0. 0. 0. 0. 0.]\n",
      " [0. 0. 1. 0. 0. 0. 0. 0. 0. 0.]]\n"
     ]
    }
   ],
   "source": [
    "# 3. 미니 배치mini batch를 위한 데이터 준비\n",
    "\n",
    "import sys, os\n",
    "sys.path.append(os.pardir)\n",
    "\n",
    "import numpy as np\n",
    "from dataset.mnist import load_mnist\n",
    "\n",
    "(x_train, t_train), (x_test, t_test) = load_mnist(normalize=True, one_hot_label=True)\n",
    "\n",
    "print(\"x_train.shape: \", x_train.shape) # (60000, 784)\n",
    "print(\"t_train.shape: \", t_train.shape) # (60000, 10)\n",
    "\n",
    "train_size = x_train.shape[0]\n",
    "batch_size = 10\n",
    "batch_mask = np.random.choice(train_size, batch_size)\n",
    "print(\"train_size: \", train_size) # 60000\n",
    "print(\"batch_size: \", batch_size) # 10\n",
    "print(\"batch_mask: \", batch_mask) # ex) [31058 14801 39118 28351 40226  4235 58415 52323 35472 52556]\n",
    "\n",
    "x_batch = x_train[batch_mask]\n",
    "t_batch = t_train[batch_mask]\n",
    "print(\"x_batch: \", x_batch)\n",
    "print(\"t_batch: \", t_batch)\n",
    "\n"
   ]
  },
  {
   "cell_type": "code",
   "execution_count": 4,
   "metadata": {},
   "outputs": [
    {
     "name": "stdout",
     "output_type": "stream",
     "text": [
      "y_batch.shape:  (10, 10)\n",
      "y_batch.ndim:  2\n",
      "t_batch.shape:  (10, 10)\n",
      "t_batch.ndim:  2\n",
      "np.sum(y_batch):  0.99999994\n",
      "np.sum(t_batch):  10.0\n",
      "cross_entropy_error(y_batch, t_batch):  3.890196990966797\n"
     ]
    }
   ],
   "source": [
    "# 4. 배치용 교차 엔트로피 오차\n",
    "\n",
    "import pickle\n",
    "\n",
    "def sigmoid(x):\n",
    "    \"\"\"시그모이드 함수\n",
    "    \"\"\"\n",
    "    return 1 / (1 + np.exp(-x))\n",
    "\n",
    "def softmax(x):\n",
    "    \"\"\"Overflow 문제가 없는 Softmax 함수.\n",
    "    \"\"\"\n",
    "    max_x = np.max(x)\n",
    "    exp_x = np.exp(x - max_x)\n",
    "    sum_exp_x = np.sum(exp_x)\n",
    "    y = exp_x / sum_exp_x\n",
    "    return y\n",
    "\n",
    "def init_network():\n",
    "    \"\"\"신경망 초기화\n",
    "    \"\"\"\n",
    "    with open(\"d:/dlfs/book1/dataset/sample_weight.pkl\", \"rb\") as f:\n",
    "        network = pickle.load(f)\n",
    "    return network\n",
    "\n",
    "def predict(network, x):\n",
    "    \"\"\"추론\n",
    "    \"\"\"\n",
    "    W1, W2, W3 = network[\"W1\"], network[\"W2\"], network[\"W3\"]\n",
    "    b1, b2, b3 = network[\"b1\"], network[\"b2\"], network[\"b3\"]\n",
    "    a1 = np.dot(x, W1) + b1\n",
    "    z1 = sigmoid(a1)\n",
    "    a2 = np.dot(z1, W2) + b2\n",
    "    z2 = sigmoid(a2)\n",
    "    a3 = np.dot(z2, W3) + b3\n",
    "    y = softmax(a3)\n",
    "    return y\n",
    "\n",
    "def cross_entropy_error(y, t):\n",
    "  \"\"\"배치용 교차 엔트로피 오차cross entropy error,CEE\n",
    "  \"\"\"\n",
    "  if y.ndim == 1:  # 1차원 numpy배열인 경우 2차원 배열로 변환한다.\n",
    "      t = t.reshape(1, t.size)\n",
    "      y = y.reshape(1, y.size)\n",
    "  delta = 1e-7\n",
    "  batch_size = y.shape[0]\n",
    "  return -np.sum(t * np.log(y + delta)) / batch_size\n",
    "\n",
    "network = init_network()\n",
    "y_batch = predict(network, x_batch)\n",
    "# print(\"y_batch: \", y_batch)\n",
    "print(\"y_batch.shape: \", y_batch.shape)\n",
    "print(\"y_batch.ndim: \", y_batch.ndim)\n",
    "print(\"t_batch.shape: \", t_batch.shape)\n",
    "print(\"t_batch.ndim: \", t_batch.ndim)\n",
    "# print(\"t_batch: \", t_batch)\n",
    "print(\"np.sum(y_batch): \", np.sum(y_batch))\n",
    "print(\"np.sum(t_batch): \", np.sum(t_batch))\n",
    "print(\"cross_entropy_error(y_batch, t_batch): \", cross_entropy_error(y_batch, t_batch))\n",
    "\n"
   ]
  },
  {
   "cell_type": "code",
   "execution_count": 5,
   "metadata": {},
   "outputs": [
    {
     "name": "stdout",
     "output_type": "stream",
     "text": [
      "t_batch:  [2 7 5 9 7 2 3 5 4 5]\n",
      "t_batch.shape:  (10,)\n",
      "t_batch.ndim:  1\n",
      "cross_entropy_error_not_onehot(y_batch, t_batch):  3.9788558959960936\n"
     ]
    }
   ],
   "source": [
    "# 5. 배치용 교차 엔트로피 오차, 원핫레이블이 아닌 답지의 경우 처리.\n",
    "\n",
    "(x_train, t_train), (x_test, t_test) = load_mnist(normalize=True, one_hot_label=False)\n",
    "train_size = x_train.shape[0]\n",
    "batch_size = 10\n",
    "batch_mask = np.random.choice(train_size, batch_size)\n",
    "x_batch = x_train[batch_mask]\n",
    "t_batch = t_train[batch_mask]\n",
    "y_batch = predict(network, x_batch)\n",
    "\n",
    "def cross_entropy_error_not_onehot(y, t):\n",
    "  \"\"\"원핫레이블 답지가 아닌 경우의 배치용 교차 엔트로피 오차cross entropy error,CEE\n",
    "  \"\"\"\n",
    "  if y.ndim == 1:  # 1차원 numpy배열인 경우 2차원 배열로 변환한다.\n",
    "      t = t.reshape(1, t.size)\n",
    "      y = y.reshape(1, y.size)\n",
    "  delta = 1e-7\n",
    "  batch_size = y.shape[0]\n",
    "  # return -np.sum(t * np.log(y + delta)) / batch_size\n",
    "  # np.arange로 행 데이터 필터링을 하고, 답지 데이터 t로 열 필터링을 하여 정답일 때의 확률(softmax값)을 얻는다.\n",
    "  return -np.sum(np.log(y[np.arange(batch_size), t])) / batch_size\n",
    "\n",
    "print(\"t_batch: \", t_batch)\n",
    "print(\"t_batch.shape: \", t_batch.shape)\n",
    "print(\"t_batch.ndim: \", t_batch.ndim)\n",
    "print(\"cross_entropy_error_not_onehot(y_batch, t_batch): \", cross_entropy_error_not_onehot(y_batch, t_batch))"
   ]
  },
  {
   "cell_type": "code",
   "execution_count": 6,
   "metadata": {},
   "outputs": [
    {
     "name": "stdout",
     "output_type": "stream",
     "text": [
      "np.float32(1e-4):  1e-04\n",
      "np.float32(1e-10):  1e-10\n",
      "np.float32(1e-50):  0.0\n"
     ]
    }
   ],
   "source": [
    "# 6. 수치 미분\n",
    "\n",
    "def numerical_diff(f, x):\n",
    "  \"\"\"수치 미분numerical differentiation\n",
    "  * 반올림 오차rounding error 문제가 있음.\n",
    "  * 전방 차분.\n",
    "  \"\"\"\n",
    "  h = 1e-50\n",
    "  return (f(x+h) - f(x)) / h\n",
    "\n",
    "def numerical_diff(f, x):\n",
    "  \"\"\"수치 미분numerical differentiation\n",
    "  * 반올림 오차 문제를 피하기 위해 차이를 적당히 작은 값 1e-4(0.0001) 로 설정.\n",
    "  * 중심 차분(중앙 차분)\n",
    "  \"\"\"\n",
    "  h = 1e-4 # 0.0001\n",
    "  return (f(x+h) - f(x-h)) / (2*h)\n",
    "\n",
    "print(\"np.float32(1e-4): \", np.float32(1e-4))\n",
    "print(\"np.float32(1e-10): \", np.float32(1e-10))\n",
    "print(\"np.float32(1e-50): \", np.float32(1e-50))\n",
    "\n"
   ]
  },
  {
   "cell_type": "code",
   "execution_count": 7,
   "metadata": {},
   "outputs": [
    {
     "data": {
      "image/png": "[encoded data removed]",
      "text/plain": [
       "<Figure size 640x480 with 1 Axes>"
      ]
     },
     "metadata": {},
     "output_type": "display_data"
    },
    {
     "name": "stdout",
     "output_type": "stream",
     "text": [
      "numerical_diff(function1, 5):  0.1999999999990898\n",
      "numerical_diff(function1, 10):  0.2999999999986347\n"
     ]
    }
   ],
   "source": [
    "# 7. 수치 미분 사용\n",
    "\n",
    "def function1(x):\n",
    "  return 0.01*x**2 + 0.1*x\n",
    "\n",
    "import matplotlib.pylab as plt\n",
    "\n",
    "x = np.arange(0.0, 20.0, 0.1)\n",
    "y = function1(x)\n",
    "\n",
    "plt.xlabel(\"x\")\n",
    "plt.ylabel(\"f(x)\")\n",
    "plt.plot(x, y)\n",
    "plt.show()\n",
    "\n",
    "print(\"numerical_diff(function1, 5): \", numerical_diff(function1, 5))\n",
    "print(\"numerical_diff(function1, 10): \", numerical_diff(function1, 10))\n"
   ]
  },
  {
   "cell_type": "code",
   "execution_count": 8,
   "metadata": {},
   "outputs": [
    {
     "name": "stdout",
     "output_type": "stream",
     "text": [
      "6.00000000000378\n",
      "7.999999999999119\n"
     ]
    }
   ],
   "source": [
    "# 8. 편미분\n",
    "\n",
    "def function2(x):\n",
    "  return x[0]**2 + x[1]**2\n",
    "\n",
    "# x0=3, x1=4일 때 x0에 대한 편미분\n",
    "def function2_1(x0):\n",
    "  return x0*x0 + 4.0 ** 2.0\n",
    "print(numerical_diff(function2_1, 3.0))\n",
    "\n",
    "# x0=3, x1=4일 때 x1에 대한 편미분\n",
    "def function2_2(x1):\n",
    "  return 3.0**.0 + x1*x1\n",
    "print(numerical_diff(function2_2, 4.0))\n",
    "\n",
    "def numerical_gradient(f, x):\n",
    "  \"\"\"함수 f에 대한 입력배열 x의 기울기gradient를 리턴한다.\n",
    "\n",
    "  * 입력 배열 x의 개별 항목의 편미분을 모아 리턴한다.\n",
    "  * 미분은 수치미분으로, 중심차분 방식으로 계산한다.\n",
    "  \"\"\"\n",
    "  h = 1e-4 # 0.0001\n",
    "  grad = np.zeros_like(x) # x 형상과 같은 배열을 생성한다.\n",
    "  \n",
    "  for idx in range(x.size):\n",
    "    tmp = x[idx]\n",
    "\n",
    "    # f(x+h): 현재 x입력값에 h를 더한 뒤 함수 결과를 보관한다.\n",
    "    x[idx] = tmp+h\n",
    "    y1 = f(x)\n",
    "\n",
    "    # f(x-h): 현재 x입력값에 h를 뺀 뒤 함수 결과를 보관한다.\n",
    "    x[idx] = tmp-h\n",
    "    y2 = f(x)\n",
    "\n",
    "    grad[idx] = (y1-y2) / (2*h) # f의 현재x에 대한 편미분 값을 저장한다.\n",
    "    x[idx] = tmp # restore\n",
    "  \n",
    "  return grad"
   ]
  },
  {
   "cell_type": "code",
   "execution_count": 9,
   "metadata": {},
   "outputs": [
    {
     "name": "stdout",
     "output_type": "stream",
     "text": [
      "r1:  [-6.11110793e-10  8.14814391e-10]\n",
      "r2:  [-2.58983747e+13 -1.29524862e+12]\n",
      "r3:  [-2.99999994  3.99999992]\n"
     ]
    }
   ],
   "source": [
    "def gradient_descent(f, init_x, lr=0.01, step_num=100):\n",
    "  x = init_x\n",
    "\n",
    "  for i in range(step_num):\n",
    "    grad = numerical_gradient(f, x)\n",
    "    x -= lr * grad\n",
    "  return x\n",
    "\n",
    "def function_2(x):\n",
    "  return x[0]**2 + x[1]**2\n",
    "\n",
    "r1 = gradient_descent(function_2, init_x=np.array([-3.0, 4.0]), lr=0.1, step_num=100)\n",
    "r2 = gradient_descent(function_2, init_x=np.array([-3.0, 4.0]), lr=10.0, step_num=100) # 학습률이 너무 커서 발산됨.\n",
    "r3 = gradient_descent(function_2, init_x=np.array([-3.0, 4.0]), lr=1e-10, step_num=100) # 학습률이 너무 작아서 갱신이 안됨.\n",
    "\n",
    "print(\"r1: \", r1)\n",
    "print(\"r2: \", r2)\n",
    "print(\"r3: \", r3)"
   ]
  },
  {
   "cell_type": "code",
   "execution_count": 10,
   "metadata": {},
   "outputs": [
    {
     "name": "stdout",
     "output_type": "stream",
     "text": [
      "net.W:  [[-0.12049103  0.14827867 -0.07148025]\n",
      " [-0.06890872 -1.52687817 -0.81236922]]\n",
      "x:  [0.6 0.9]\n",
      "p:  [-0.13431247 -1.28522316 -0.77402045]\n",
      "t:  [1 0 0]\n",
      "net.loss(x, t):  0.6118257460593847\n"
     ]
    }
   ],
   "source": [
    "import sys, os\n",
    "sys.path.append(os.pardir)\n",
    "import numpy as np\n",
    "\n",
    "assert(callable(softmax) and callable(cross_entropy_error) and callable(numerical_gradient))\n",
    "\n",
    "class SimpleNet:\n",
    "  def __init__(self):\n",
    "    self.W = np.random.randn(2, 3) # 랜덤값을 정규분포로 2x3 (0.0~1.0)\n",
    "\n",
    "  def predict(self, x):\n",
    "    return np.dot(x, self.W)\n",
    "\n",
    "  def loss(self, x, t):\n",
    "    z = self.predict(x)\n",
    "    y = softmax(z)\n",
    "    loss = cross_entropy_error(y, t)\n",
    "    return loss\n",
    "\n",
    "net = SimpleNet()\n",
    "print(\"net.W: \", net.W)\n",
    "\n",
    "x = np.array([0.6, 0.9])\n",
    "print(\"x: \", x)\n",
    "\n",
    "p = net.predict(x)\n",
    "print(\"p: \", p)\n",
    "\n",
    "t = np.array([0, 0, 0])\n",
    "t[np.argmax(p)] = 1\n",
    "print(\"t: \", t)\n",
    "\n",
    "print(\"net.loss(x, t): \", net.loss(x, t))\n",
    "\n"
   ]
  },
  {
   "cell_type": "code",
   "execution_count": 11,
   "metadata": {},
   "outputs": [
    {
     "name": "stdout",
     "output_type": "stream",
     "text": [
      "ng1:  [2. 4.]\n",
      "ng2:  [[2. 4.]\n",
      " [6. 8.]]\n"
     ]
    }
   ],
   "source": [
    "def _numerical_gradient_no_batch(f, x):\n",
    "  \"\"\"1차원 입력값에 대한 편미분(기울기) 구하기\n",
    "  \"\"\"\n",
    "  h = 1e-4 # 0.0001\n",
    "  grad = np.zeros_like(x)\n",
    "  \n",
    "  for idx in range(x.size):\n",
    "    tmp = x[idx]\n",
    "    \n",
    "    # f(x+h)\n",
    "    x[idx] = tmp + h\n",
    "    right = f(x)\n",
    "    \n",
    "    # f(x-h)\n",
    "    x[idx] = tmp - h \n",
    "    left = f(x) \n",
    "    \n",
    "    grad[idx] = (right - left) / (2*h)\n",
    "    x[idx] = tmp\n",
    "      \n",
    "  return grad\n",
    "\n",
    "def numerical_gradient(f, X):\n",
    "  \"\"\"1~2차원 입력값에 대한 편미분(기울기) 구하기.\n",
    "  \"\"\"\n",
    "  if X.ndim == 1:\n",
    "    return _numerical_gradient_no_batch(f, X)\n",
    "  else:\n",
    "    grad = np.zeros_like(X)\n",
    "    \n",
    "    for idx, x in enumerate(X):\n",
    "      grad[idx] = _numerical_gradient_no_batch(f, x)\n",
    "    \n",
    "    return grad\n",
    "\n",
    "print(\"ng1: \", numerical_gradient(lambda x: x[0]**2 + x[1]**2, np.array([1.0, 2.0])))\n",
    "print(\"ng2: \", numerical_gradient(lambda x: x[0]**2 + x[1]**2, np.array([[1.0, 2.0], [3.0, 4.0]])))"
   ]
  },
  {
   "cell_type": "code",
   "execution_count": 12,
   "metadata": {},
   "outputs": [
    {
     "name": "stdout",
     "output_type": "stream",
     "text": [
      "net.W.size:  6\n",
      "net.W.shape:  (2, 3)\n",
      "[[-0.27458416  0.10294479  0.17163936]\n",
      " [-0.41187624  0.15441719  0.25745905]]\n"
     ]
    }
   ],
   "source": [
    "def f(W):\n",
    "  # 주어진 x 입력값으로 내부의 웨이트를 사용해서 추론해서 나온 결과(분류)와 정답지를 손실함수를 보내 나온 값을 리턴한다.\n",
    "  return net.loss(x, t)\n",
    "\n",
    "print(\"net.W.size: \", net.W.size)\n",
    "print(\"net.W.shape: \", net.W.shape)\n",
    "dW = numerical_gradient(f, net.W)\n",
    "\n",
    "print(dW)"
   ]
  },
  {
   "cell_type": "code",
   "execution_count": 13,
   "metadata": {},
   "outputs": [],
   "source": [
    "class TwoLayerNet:\n",
    "\n",
    "  def __init__(self, input_size, hidden_size, output_size, weight_init_std=0.01):\n",
    "    \"\"\"가중치 초기화\n",
    "    \"\"\"\n",
    "    self.params = {}\n",
    "    self.params[\"W1\"] = weight_init_std * np.random.randn(input_size, hidden_size)\n",
    "    self.params[\"B1\"] = np.zeros(hidden_size)\n",
    "    self.params[\"W2\"] = weight_init_std * np.random.randn(hidden_size, output_size)\n",
    "    self.params[\"B2\"] = np.zeros(output_size)\n",
    "\n",
    "  def predict(self, x):\n",
    "    \"\"\"신경망 추론하기\n",
    "    \"\"\"\n",
    "    w1 = self.params[\"W1\"]\n",
    "    w2 = self.params[\"W2\"]\n",
    "    b1 = self.params[\"B1\"]\n",
    "    b2 = self.params[\"B2\"]\n",
    "\n",
    "    a1 = np.dot(x, w1) + b1\n",
    "    z1 = sigmoid(a1)\n",
    "    a2 = np.dot(z1, w2) + b2\n",
    "    y = softmax(a2)\n",
    "\n",
    "    return y\n",
    "  \n",
    "  def loss(self, x, t):\n",
    "    \"\"\"손실함수.\n",
    "    x: 입력 데이터\n",
    "    y: 정답 레이블(one hot encoding)\n",
    "    \"\"\"\n",
    "    y = self.predict(x)\n",
    "    return cross_entropy_error(y, t)\n",
    "\n",
    "  def accuracy(self, x, t):\n",
    "    \"\"\"추론 점수\n",
    "    \"\"\"\n",
    "    y = self.predict(x)\n",
    "    y = np.argmax(y, axis=1)\n",
    "    t = np.argmax(t, axis=1)\n",
    "    accuracy = np.sum(y == t) / float(x.shape[0])\n",
    "    return accuracy\n",
    "  \n",
    "  def numerical_gradient(self, x, t):\n",
    "    \"\"\"기울기 구하기\n",
    "    \"\"\"\n",
    "    loss_W = lambda W: self.loss(x, t)\n",
    "    grads = {}\n",
    "    grads[\"W1\"] = numerical_gradient(loss_W, self.params[\"W1\"]) # loss_W에서는 loss > predict 까지 호출되면서 W1값을 사용한다. W1값을 변화시킨 결과가 반영된다.\n",
    "    grads[\"B1\"] = numerical_gradient(loss_W, self.params[\"B1\"])\n",
    "    grads[\"W2\"] = numerical_gradient(loss_W, self.params[\"W2\"])\n",
    "    grads[\"B2\"] = numerical_gradient(loss_W, self.params[\"B2\"])\n",
    "    return grads\n"
   ]
  },
  {
   "cell_type": "code",
   "execution_count": 21,
   "metadata": {},
   "outputs": [
    {
     "name": "stdout",
     "output_type": "stream",
     "text": [
      "grads[W1].shape:  (784, 100)\n",
      "grads[B1].shape:  (100,)\n",
      "grads[W2].shape:  (100, 10)\n",
      "grads[B2].shape:  (10,)\n"
     ]
    }
   ],
   "source": [
    "net = TwoLayerNet(784, 100, 10)\n",
    "x = np.random.rand(100, 784)\n",
    "t = np.random.rand(100, 10)\n",
    "grads = net.numerical_gradient(x, t) # 연산이 오래 걸린다\n",
    "\n",
    "print(\"grads[W1].shape: \", grads[\"W1\"].shape) # (784, 100)\n",
    "print(\"grads[B1].shape: \", grads[\"B1\"].shape) # (100, )\n",
    "print(\"grads[W2].shape: \", grads[\"W2\"].shape) # (100, 10)\n",
    "print(\"grads[B2].shape: \", grads[\"B2\"].shape) # (10, )\n"
   ]
  },
  {
   "cell_type": "code",
   "execution_count": 30,
   "metadata": {},
   "outputs": [
    {
     "name": "stdout",
     "output_type": "stream",
     "text": [
      "train_accuracy: 0.09683333333333333, test_accuracy: 0.0956\n",
      "iter 0 => loss:6.908298578079582\n",
      "iter 1 => loss:6.90663292352316\n",
      "iter 2 => loss:6.907999428183607\n",
      "iter 3 => loss:6.913297688647029\n",
      "iter 4 => loss:6.905910704355063\n",
      "iter 5 => loss:6.903913897332181\n",
      "iter 6 => loss:6.908967846241012\n",
      "iter 7 => loss:6.901031255192367\n",
      "iter 8 => loss:6.912688997654141\n",
      "iter 9 => loss:6.9058613211416\n",
      "iter 10 => loss:6.898985240950246\n",
      "iter 11 => loss:6.90737180554064\n",
      "iter 12 => loss:6.911422466075049\n",
      "iter 13 => loss:6.904599747107202\n",
      "iter 14 => loss:6.901243291231985\n",
      "iter 15 => loss:6.910058972457287\n",
      "iter 16 => loss:6.907307503266909\n",
      "iter 17 => loss:6.906316836182791\n",
      "iter 18 => loss:6.901990170052309\n",
      "iter 19 => loss:6.901141667171782\n",
      "iter 20 => loss:6.90454463785775\n"
     ]
    },
    {
     "ename": "KeyboardInterrupt",
     "evalue": "",
     "output_type": "error",
     "traceback": [
      "\u001b[1;31m---------------------------------------------------------------------------\u001b[0m",
      "\u001b[1;31mKeyboardInterrupt\u001b[0m                         Traceback (most recent call last)",
      "Cell \u001b[1;32mIn[30], line 19\u001b[0m\n\u001b[0;32m     16\u001b[0m t_batch \u001b[38;5;241m=\u001b[39m t_train[batch_mask]\n\u001b[0;32m     18\u001b[0m \u001b[38;5;66;03m# 기울기 얻기.\u001b[39;00m\n\u001b[1;32m---> 19\u001b[0m grad \u001b[38;5;241m=\u001b[39m \u001b[43mnetwork\u001b[49m\u001b[38;5;241;43m.\u001b[39;49m\u001b[43mnumerical_gradient\u001b[49m\u001b[43m(\u001b[49m\u001b[43mx_batch\u001b[49m\u001b[43m,\u001b[49m\u001b[43m \u001b[49m\u001b[43mt_batch\u001b[49m\u001b[43m)\u001b[49m\n\u001b[0;32m     20\u001b[0m \u001b[38;5;66;03m# grad = network.gradient(x_batch, t_batch) # 오차역전파법을 이용해 기울기를 구하는 함수. 다음 장에서 학습 예정.\u001b[39;00m\n\u001b[0;32m     21\u001b[0m \n\u001b[0;32m     22\u001b[0m \u001b[38;5;66;03m# 기울기를 이용해 경사하강법으로 손실함수의 결과값을 줄이는 방향으로 각 파라미터(가중치와 편향) 조정하기.\u001b[39;00m\n\u001b[0;32m     23\u001b[0m \u001b[38;5;28;01mfor\u001b[39;00m key \u001b[38;5;129;01min\u001b[39;00m (\u001b[38;5;124m\"\u001b[39m\u001b[38;5;124mW1\u001b[39m\u001b[38;5;124m\"\u001b[39m, \u001b[38;5;124m\"\u001b[39m\u001b[38;5;124mB1\u001b[39m\u001b[38;5;124m\"\u001b[39m, \u001b[38;5;124m\"\u001b[39m\u001b[38;5;124mW2\u001b[39m\u001b[38;5;124m\"\u001b[39m, \u001b[38;5;124m\"\u001b[39m\u001b[38;5;124mB2\u001b[39m\u001b[38;5;124m\"\u001b[39m):\n\u001b[0;32m     24\u001b[0m   \u001b[38;5;66;03m# 기울기 값이 음수면 손실함수의 결과가 0으로 향하기 위해 더해줌.\u001b[39;00m\n",
      "Cell \u001b[1;32mIn[13], line 49\u001b[0m, in \u001b[0;36mTwoLayerNet.numerical_gradient\u001b[1;34m(self, x, t)\u001b[0m\n\u001b[0;32m     47\u001b[0m loss_W \u001b[38;5;241m=\u001b[39m \u001b[38;5;28;01mlambda\u001b[39;00m W: \u001b[38;5;28mself\u001b[39m\u001b[38;5;241m.\u001b[39mloss(x, t)\n\u001b[0;32m     48\u001b[0m grads \u001b[38;5;241m=\u001b[39m {}\n\u001b[1;32m---> 49\u001b[0m grads[\u001b[38;5;124m\"\u001b[39m\u001b[38;5;124mW1\u001b[39m\u001b[38;5;124m\"\u001b[39m] \u001b[38;5;241m=\u001b[39m \u001b[43mnumerical_gradient\u001b[49m\u001b[43m(\u001b[49m\u001b[43mloss_W\u001b[49m\u001b[43m,\u001b[49m\u001b[43m \u001b[49m\u001b[38;5;28;43mself\u001b[39;49m\u001b[38;5;241;43m.\u001b[39;49m\u001b[43mparams\u001b[49m\u001b[43m[\u001b[49m\u001b[38;5;124;43m\"\u001b[39;49m\u001b[38;5;124;43mW1\u001b[39;49m\u001b[38;5;124;43m\"\u001b[39;49m\u001b[43m]\u001b[49m\u001b[43m)\u001b[49m \u001b[38;5;66;03m# loss_W에서는 loss > predict 까지 호출되면서 W1값을 사용한다. W1값을 변화시킨 결과가 반영된다.\u001b[39;00m\n\u001b[0;32m     50\u001b[0m grads[\u001b[38;5;124m\"\u001b[39m\u001b[38;5;124mB1\u001b[39m\u001b[38;5;124m\"\u001b[39m] \u001b[38;5;241m=\u001b[39m numerical_gradient(loss_W, \u001b[38;5;28mself\u001b[39m\u001b[38;5;241m.\u001b[39mparams[\u001b[38;5;124m\"\u001b[39m\u001b[38;5;124mB1\u001b[39m\u001b[38;5;124m\"\u001b[39m])\n\u001b[0;32m     51\u001b[0m grads[\u001b[38;5;124m\"\u001b[39m\u001b[38;5;124mW2\u001b[39m\u001b[38;5;124m\"\u001b[39m] \u001b[38;5;241m=\u001b[39m numerical_gradient(loss_W, \u001b[38;5;28mself\u001b[39m\u001b[38;5;241m.\u001b[39mparams[\u001b[38;5;124m\"\u001b[39m\u001b[38;5;124mW2\u001b[39m\u001b[38;5;124m\"\u001b[39m])\n",
      "Cell \u001b[1;32mIn[11], line 28\u001b[0m, in \u001b[0;36mnumerical_gradient\u001b[1;34m(f, X)\u001b[0m\n\u001b[0;32m     25\u001b[0m grad \u001b[38;5;241m=\u001b[39m np\u001b[38;5;241m.\u001b[39mzeros_like(X)\n\u001b[0;32m     27\u001b[0m \u001b[38;5;28;01mfor\u001b[39;00m idx, x \u001b[38;5;129;01min\u001b[39;00m \u001b[38;5;28menumerate\u001b[39m(X):\n\u001b[1;32m---> 28\u001b[0m   grad[idx] \u001b[38;5;241m=\u001b[39m \u001b[43m_numerical_gradient_no_batch\u001b[49m\u001b[43m(\u001b[49m\u001b[43mf\u001b[49m\u001b[43m,\u001b[49m\u001b[43m \u001b[49m\u001b[43mx\u001b[49m\u001b[43m)\u001b[49m\n\u001b[0;32m     30\u001b[0m \u001b[38;5;28;01mreturn\u001b[39;00m grad\n",
      "Cell \u001b[1;32mIn[11], line 10\u001b[0m, in \u001b[0;36m_numerical_gradient_no_batch\u001b[1;34m(f, x)\u001b[0m\n\u001b[0;32m      8\u001b[0m \u001b[38;5;66;03m# f(x+h)\u001b[39;00m\n\u001b[0;32m      9\u001b[0m x[idx] \u001b[38;5;241m=\u001b[39m tmp \u001b[38;5;241m+\u001b[39m h\n\u001b[1;32m---> 10\u001b[0m right \u001b[38;5;241m=\u001b[39m \u001b[43mf\u001b[49m\u001b[43m(\u001b[49m\u001b[43mx\u001b[49m\u001b[43m)\u001b[49m\n\u001b[0;32m     12\u001b[0m \u001b[38;5;66;03m# f(x-h)\u001b[39;00m\n\u001b[0;32m     13\u001b[0m x[idx] \u001b[38;5;241m=\u001b[39m tmp \u001b[38;5;241m-\u001b[39m h \n",
      "Cell \u001b[1;32mIn[13], line 47\u001b[0m, in \u001b[0;36mTwoLayerNet.numerical_gradient.<locals>.<lambda>\u001b[1;34m(W)\u001b[0m\n\u001b[0;32m     44\u001b[0m \u001b[38;5;28;01mdef\u001b[39;00m \u001b[38;5;21mnumerical_gradient\u001b[39m(\u001b[38;5;28mself\u001b[39m, x, t):\n\u001b[0;32m     45\u001b[0m \u001b[38;5;250m  \u001b[39m\u001b[38;5;124;03m\"\"\"기울기 구하기\u001b[39;00m\n\u001b[0;32m     46\u001b[0m \u001b[38;5;124;03m  \"\"\"\u001b[39;00m\n\u001b[1;32m---> 47\u001b[0m   loss_W \u001b[38;5;241m=\u001b[39m \u001b[38;5;28;01mlambda\u001b[39;00m W: \u001b[38;5;28;43mself\u001b[39;49m\u001b[38;5;241;43m.\u001b[39;49m\u001b[43mloss\u001b[49m\u001b[43m(\u001b[49m\u001b[43mx\u001b[49m\u001b[43m,\u001b[49m\u001b[43m \u001b[49m\u001b[43mt\u001b[49m\u001b[43m)\u001b[49m\n\u001b[0;32m     48\u001b[0m   grads \u001b[38;5;241m=\u001b[39m {}\n\u001b[0;32m     49\u001b[0m   grads[\u001b[38;5;124m\"\u001b[39m\u001b[38;5;124mW1\u001b[39m\u001b[38;5;124m\"\u001b[39m] \u001b[38;5;241m=\u001b[39m numerical_gradient(loss_W, \u001b[38;5;28mself\u001b[39m\u001b[38;5;241m.\u001b[39mparams[\u001b[38;5;124m\"\u001b[39m\u001b[38;5;124mW1\u001b[39m\u001b[38;5;124m\"\u001b[39m]) \u001b[38;5;66;03m# loss_W에서는 loss > predict 까지 호출되면서 W1값을 사용한다. W1값을 변화시킨 결과가 반영된다.\u001b[39;00m\n",
      "Cell \u001b[1;32mIn[13], line 32\u001b[0m, in \u001b[0;36mTwoLayerNet.loss\u001b[1;34m(self, x, t)\u001b[0m\n\u001b[0;32m     27\u001b[0m \u001b[38;5;28;01mdef\u001b[39;00m \u001b[38;5;21mloss\u001b[39m(\u001b[38;5;28mself\u001b[39m, x, t):\n\u001b[0;32m     28\u001b[0m \u001b[38;5;250m  \u001b[39m\u001b[38;5;124;03m\"\"\"손실함수.\u001b[39;00m\n\u001b[0;32m     29\u001b[0m \u001b[38;5;124;03m  x: 입력 데이터\u001b[39;00m\n\u001b[0;32m     30\u001b[0m \u001b[38;5;124;03m  y: 정답 레이블(one hot encoding)\u001b[39;00m\n\u001b[0;32m     31\u001b[0m \u001b[38;5;124;03m  \"\"\"\u001b[39;00m\n\u001b[1;32m---> 32\u001b[0m   y \u001b[38;5;241m=\u001b[39m \u001b[38;5;28;43mself\u001b[39;49m\u001b[38;5;241;43m.\u001b[39;49m\u001b[43mpredict\u001b[49m\u001b[43m(\u001b[49m\u001b[43mx\u001b[49m\u001b[43m)\u001b[49m\n\u001b[0;32m     33\u001b[0m   \u001b[38;5;28;01mreturn\u001b[39;00m cross_entropy_error(y, t)\n",
      "Cell \u001b[1;32mIn[13], line 22\u001b[0m, in \u001b[0;36mTwoLayerNet.predict\u001b[1;34m(self, x)\u001b[0m\n\u001b[0;32m     20\u001b[0m a1 \u001b[38;5;241m=\u001b[39m np\u001b[38;5;241m.\u001b[39mdot(x, w1) \u001b[38;5;241m+\u001b[39m b1\n\u001b[0;32m     21\u001b[0m z1 \u001b[38;5;241m=\u001b[39m sigmoid(a1)\n\u001b[1;32m---> 22\u001b[0m a2 \u001b[38;5;241m=\u001b[39m \u001b[43mnp\u001b[49m\u001b[38;5;241;43m.\u001b[39;49m\u001b[43mdot\u001b[49m\u001b[43m(\u001b[49m\u001b[43mz1\u001b[49m\u001b[43m,\u001b[49m\u001b[43m \u001b[49m\u001b[43mw2\u001b[49m\u001b[43m)\u001b[49m \u001b[38;5;241m+\u001b[39m b2\n\u001b[0;32m     23\u001b[0m y \u001b[38;5;241m=\u001b[39m softmax(a2)\n\u001b[0;32m     25\u001b[0m \u001b[38;5;28;01mreturn\u001b[39;00m y\n",
      "\u001b[1;31mKeyboardInterrupt\u001b[0m: "
     ]
    }
   ],
   "source": [
    "(x_train, t_train), (x_test, t_test) = load_mnist(normalize=True, one_hot_label=True)\n",
    "train_loss_list = []\n",
    "train_accuracy_list = []\n",
    "test_accuracy_list = []\n",
    "iters_num = 10_000\n",
    "train_size = x_train.shape[0]\n",
    "batch_size = 100\n",
    "learning_rate = 0.01\n",
    "iter_per_epoch = max(train_size / batch_size, 1)\n",
    "network = TwoLayerNet(input_size=28*28, hidden_size=50, output_size=10)\n",
    "\n",
    "for i in range(iters_num):\n",
    "  # 미니배치용 데이터 준비.\n",
    "  batch_mask = np.random.choice(train_size, batch_size)\n",
    "  x_batch = x_train[batch_mask]\n",
    "  t_batch = t_train[batch_mask]\n",
    "\n",
    "  # 기울기 얻기.\n",
    "  grad = network.numerical_gradient(x_batch, t_batch)\n",
    "  # grad = network.gradient(x_batch, t_batch) # 오차역전파법을 이용해 기울기를 구하는 함수. 다음 장에서 학습 예정.\n",
    "\n",
    "  # 기울기를 이용해 경사하강법으로 손실함수의 결과값을 줄이는 방향으로 각 파라미터(가중치와 편향) 조정하기.\n",
    "  for key in (\"W1\", \"B1\", \"W2\", \"B2\"):\n",
    "    # 기울기 값이 음수면 손실함수의 결과가 0으로 향하기 위해 더해줌.\n",
    "    network.params[key] -= learning_rate * grad[key]\n",
    "  \n",
    "  # 학습경과를 파악하기 위해\n",
    "  # 수정된 파라미터를 통해 손실함수를 계산하고 그 결과를 보관하기.\n",
    "  loss = network.loss(x_batch, t_batch)\n",
    "  train_loss_list.append(loss)\n",
    "\n",
    "  if i % iter_per_epoch == 0:\n",
    "    train_accuracy = network.accuracy(x_train, t_train)\n",
    "    test_accuracy  = network.accuracy(x_test, t_test)\n",
    "    train_accuracy_list.append(train_accuracy)\n",
    "    test_accuracy_list.append(test_accuracy)\n",
    "    print(f\"train_accuracy: {train_accuracy}, test_accuracy: {test_accuracy}\")\n",
    "  print(f\"iter {i} => loss:{loss}\")\n",
    "  \n"
   ]
  }
 ],
 "metadata": {
  "kernelspec": {
   "display_name": "Python 3",
   "language": "python",
   "name": "python3"
  },
  "language_info": {
   "codemirror_mode": {
    "name": "ipython",
    "version": 3
   },
   "file_extension": ".py",
   "mimetype": "text/x-python",
   "name": "python",
   "nbconvert_exporter": "python",
   "pygments_lexer": "ipython3",
   "version": "3.10.6"
  }
 },
 "nbformat": 4,
 "nbformat_minor": 2
}
