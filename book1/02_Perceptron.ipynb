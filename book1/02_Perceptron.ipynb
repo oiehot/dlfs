{
 "cells": [
  {
   "cell_type": "code",
   "execution_count": 32,
   "metadata": {},
   "outputs": [],
   "source": [
    "# 1. 퍼셉트론\n",
    "\n",
    "def perceptron(x1, x2, w1, w2, theta):\n",
    "    \"\"\"\n",
    "        x1: 입력값1\n",
    "        x2: 입력값2\n",
    "        w1: 가중치1\n",
    "        w2: 가중치2\n",
    "        theta: 임계값\n",
    "    \"\"\"\n",
    "    if (w1*x1 + w2*x2) <= theta:\n",
    "        return 0\n",
    "    elif (w1*x1 + w2*x2) > theta:\n",
    "        return 1\n",
    "\n",
    "# 2. 퍼셉트론을 사용한 AND, NAND, OR 논리회로\n",
    "\n",
    "def AND(x1, x2):\n",
    "    return perceptron(x1, x2, 0.5, 0.5, 0.7)\n",
    "\n",
    "def OR(x1, x2):\n",
    "    return perceptron(x1, x2, 0.5, 0.5, 0.25)\n",
    "\n",
    "def NAND(x1, x2):\n",
    "    return perceptron(x1, x2, -0.5, -0.5, -0.7)\n",
    "\n",
    "assert(AND(0,0) == 0 and AND(0,1) == 0 and AND(1,0) == 0 and AND(1,1) == 1)\n",
    "assert(OR(0,0) == 0 and OR(0,1) == 1 and OR(1,0) == 1 and OR(1,1) == 1)\n",
    "assert(NAND(0,0) == 1 and NAND(0,1) == 1 and NAND(1,0) == 1 and NAND(1,1) == 0)"
   ]
  },
  {
   "cell_type": "code",
   "execution_count": 33,
   "metadata": {},
   "outputs": [],
   "source": [
    "# 3. NumPy를 이용하여 퍼셉트론을 계산해보기\n",
    "import numpy as np\n",
    "\n",
    "x = np.array([0, 1])\n",
    "w = np.array([0.5, 0.5])\n",
    "b = -0.7\n",
    "\n",
    "assert(np.array_equal(w*x, ([0, 0.5])))\n",
    "assert(np.sum(w*x) == 0.5)\n",
    "import math\n",
    "assert(math.isclose(np.sum(w*x) + b, -0.199, abs_tol=0.001))"
   ]
  },
  {
   "cell_type": "code",
   "execution_count": 34,
   "metadata": {},
   "outputs": [],
   "source": [
    "# 4. 임계값theta 대신 편향bias를 사용하는 퍼셉트론\n",
    "\n",
    "def perceptron(x1, x2, w1, w2, b):\n",
    "    if (b + w1*x1 + w2*x2) <= 0:\n",
    "        return 0\n",
    "    elif (b + w1*x1 + w2*x2) > 0:\n",
    "        return 1\n",
    "\n",
    "# 5. numpy를 사용하도록 수정한 퍼셉트론\n",
    "\n",
    "def perceptron(inputs, weights, bias):\n",
    "    return 0 if bias + np.sum(weights*inputs) <= 0 else 1\n",
    "\n",
    "# 6. numpy를 사용하는 퍼셉트론으로 구현한 AND, OR, NAND, XOR 로직 게이트\n",
    "\n",
    "def AND2D(inputs):\n",
    "    return perceptron(inputs, [0.5, 0.5], -0.7)\n",
    "\n",
    "def OR2D(inputs):\n",
    "    return perceptron(inputs, [0.5, 0.5], -0.25)\n",
    "\n",
    "def NAND2D(inputs):\n",
    "    return perceptron(inputs, [-0.5, -0.5], 0.7)\n",
    "\n",
    "def XOR2D(inputs):\n",
    "    \"\"\"XOR 로직 게이트는\n",
    "    다층 퍼셉트론multi-layer perceptron을 사용하여 구현 할 수 있다.\n",
    "    \"\"\"\n",
    "    return perceptron(\n",
    "        np.array([\n",
    "          perceptron(inputs, [-0.5, -0.5], 0.7),  # NAND \n",
    "          perceptron(inputs, [0.5, 0.5], -0.25)   # OR\n",
    "        ]),\n",
    "        [0.5, 0.5], -0.7 # AND\n",
    "    )\n",
    "\n",
    "assert(AND2D(np.array([0,0])) == 0 and AND2D(np.array([0,1])) == 0 and AND2D(np.array([1,0])) == 0 and AND2D(np.array([1,1])) == 1)\n",
    "assert(OR2D(np.array([0,0])) == 0 and OR2D(np.array([0,1])) == 1 and OR2D(np.array([1,0])) == 1 and OR2D(np.array([1,1])) == 1)\n",
    "assert(NAND2D(np.array([0,0])) == 1 and NAND2D(np.array([0,1])) == 1 and NAND2D(np.array([1,0])) == 1 and NAND2D(np.array([1,1])) == 0)\n",
    "assert(XOR2D(np.array([0,0])) == 0 and XOR2D(np.array([0,1])) == 1 and XOR2D(np.array([1,0])) == 1 and XOR2D(np.array([1,1])) == 0)"
   ]
  }
 ],
 "metadata": {
  "kernelspec": {
   "display_name": "Python 3",
   "language": "python",
   "name": "python3"
  },
  "language_info": {
   "codemirror_mode": {
    "name": "ipython",
    "version": 3
   },
   "file_extension": ".py",
   "mimetype": "text/x-python",
   "name": "python",
   "nbconvert_exporter": "python",
   "pygments_lexer": "ipython3",
   "version": "3.10.6"
  }
 },
 "nbformat": 4,
 "nbformat_minor": 2
}
