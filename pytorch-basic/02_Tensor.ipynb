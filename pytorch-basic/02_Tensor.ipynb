{
 "cells": [
  {
   "cell_type": "code",
   "execution_count": 1,
   "metadata": {},
   "outputs": [],
   "source": [
    "import torch\n",
    "import numpy as np"
   ]
  },
  {
   "cell_type": "code",
   "execution_count": 2,
   "metadata": {},
   "outputs": [
    {
     "name": "stdout",
     "output_type": "stream",
     "text": [
      "data: [[1, 2], [3, 4]] <class 'list'>\n",
      "tensor: tensor([[1, 2],\n",
      "        [3, 4]]) <class 'torch.Tensor'>\n"
     ]
    }
   ],
   "source": [
    "\"\"\"텐서 생성하기\"\"\"\n",
    "\n",
    "data = [[1,2], [3,4]]\n",
    "t = torch.tensor(data)\n",
    "print(\"data:\", data, type(data))\n",
    "print(\"tensor:\", t, type(t))"
   ]
  },
  {
   "cell_type": "code",
   "execution_count": 3,
   "metadata": {},
   "outputs": [
    {
     "name": "stdout",
     "output_type": "stream",
     "text": [
      "data: [[1, 2], [3, 4]] <class 'list'>\n",
      "np_array: [[1 2]\n",
      " [3 4]] <class 'numpy.ndarray'>\n",
      "tensor: tensor([[1, 2],\n",
      "        [3, 4]], dtype=torch.int32) <class 'torch.Tensor'>\n"
     ]
    }
   ],
   "source": [
    "\"\"\"NumPy 배열로부터 Tensor 생성하기\"\"\"\n",
    "\n",
    "np_array = np.array(data)\n",
    "t = torch.from_numpy(np_array)\n",
    "print(\"data:\", data, type(data))\n",
    "print(\"np_array:\", np_array, type(np_array))\n",
    "print(\"tensor:\", t, type(t))"
   ]
  },
  {
   "cell_type": "code",
   "execution_count": 4,
   "metadata": {},
   "outputs": [
    {
     "name": "stdout",
     "output_type": "stream",
     "text": [
      "t_ones: tensor([[1, 1],\n",
      "        [1, 1]], dtype=torch.int32)\n",
      "t_rands: tensor([[0.9064, 0.0874],\n",
      "        [0.1705, 0.6989]])\n"
     ]
    }
   ],
   "source": [
    "\"\"\"다른 텐서로부터 생성하기\"\"\"\n",
    "\n",
    "t_ones = torch.ones_like(t)\n",
    "print(\"t_ones:\", t_ones)\n",
    "\n",
    "t_rands = torch.rand_like(t, dtype=torch.float)\n",
    "print(\"t_rands:\", t_rands)\n"
   ]
  },
  {
   "cell_type": "code",
   "execution_count": 5,
   "metadata": {},
   "outputs": [
    {
     "name": "stdout",
     "output_type": "stream",
     "text": [
      "shape: (2, 3)\n",
      "rand_tensor: tensor([[0.9377, 0.3269, 0.9685],\n",
      "        [0.0638, 0.9448, 0.0490]])\n",
      "ones_tensor: tensor([[1., 1., 1.],\n",
      "        [1., 1., 1.]])\n",
      "zeros_tensor: tensor([[0., 0., 0.],\n",
      "        [0., 0., 0.]])\n"
     ]
    }
   ],
   "source": [
    "\"\"\"Shape 크기를 통해 랜덤, 0, 1로 채워진 텐서 생성하기\"\"\"\n",
    "\n",
    "shape = (2,3,)\n",
    "rand_tensor = torch.rand(shape)\n",
    "ones_tensor = torch.ones(shape)\n",
    "zeros_tensor = torch.zeros(shape)\n",
    "\n",
    "print(\"shape:\", shape)\n",
    "print(\"rand_tensor:\", rand_tensor)\n",
    "print(\"ones_tensor:\", ones_tensor)\n",
    "print(\"zeros_tensor:\", zeros_tensor)"
   ]
  },
  {
   "cell_type": "code",
   "execution_count": 6,
   "metadata": {},
   "outputs": [
    {
     "name": "stdout",
     "output_type": "stream",
     "text": [
      "tensor: tensor([[0.6803, 0.2608, 0.7599, 0.6283],\n",
      "        [0.9755, 0.9639, 0.7438, 0.1004],\n",
      "        [0.0930, 0.1291, 0.7262, 0.0935]])\n",
      "tensor.shape: torch.Size([3, 4])\n",
      "tensor.dtype: torch.float32\n",
      "tensor.device: cpu\n"
     ]
    }
   ],
   "source": [
    "\"\"\"텐서의 속성\"\"\"\n",
    "\n",
    "tensor = torch.rand(3,4)\n",
    "print(\"tensor:\", tensor)\n",
    "print(\"tensor.shape:\", tensor.shape)\n",
    "print(\"tensor.dtype:\", tensor.dtype)\n",
    "print(\"tensor.device:\", tensor.device)"
   ]
  },
  {
   "cell_type": "code",
   "execution_count": 7,
   "metadata": {},
   "outputs": [
    {
     "name": "stdout",
     "output_type": "stream",
     "text": [
      "tensor.device: cpu\n",
      "tensor.device: cuda:0\n"
     ]
    }
   ],
   "source": [
    "\"\"\"텐서의 장치 이동\"\"\"\n",
    "\n",
    "tensor = torch.rand(3,4)\n",
    "print(\"tensor.device:\", tensor.device)\n",
    "if torch.cuda.is_available():\n",
    "  tensor = tensor.to(\"cuda\")\n",
    "print(\"tensor.device:\", tensor.device)"
   ]
  },
  {
   "cell_type": "code",
   "execution_count": 8,
   "metadata": {},
   "outputs": [
    {
     "name": "stdout",
     "output_type": "stream",
     "text": [
      "tensor: tensor([[0.7013, 0.8661, 0.4900, 0.0629],\n",
      "        [0.0439, 0.1028, 0.1443, 0.8434],\n",
      "        [0.1267, 0.7986, 0.8036, 0.9819],\n",
      "        [0.3292, 0.8109, 0.0203, 0.9723]])\n",
      "tensor[0]: tensor([0.7013, 0.8661, 0.4900, 0.0629])\n",
      "tensor[:, 0]: tensor([0.7013, 0.0439, 0.1267, 0.3292])\n",
      "tensor[..., -1]: tensor([0.0629, 0.8434, 0.9819, 0.9723])\n"
     ]
    }
   ],
   "source": [
    "\"\"\"텐서 인덱싱과 슬라이스\"\"\"\n",
    "\n",
    "tensor = torch.rand(4,4)\n",
    "print(\"tensor:\", tensor)\n",
    "print(\"tensor[0]:\", tensor[0]) # 첫번째 행\n",
    "print(\"tensor[:, 0]:\", tensor[:, 0]) # 모든 행의 첫번째 열 값들\n",
    "print(\"tensor[..., -1]:\", tensor[..., -1]) # 모든 행의 마지막 열 값들"
   ]
  },
  {
   "cell_type": "code",
   "execution_count": 9,
   "metadata": {},
   "outputs": [
    {
     "name": "stdout",
     "output_type": "stream",
     "text": [
      "t1.shape: torch.Size([2, 3])\n",
      "t2.shape: torch.Size([2, 3])\n",
      "t3.shape: torch.Size([4, 3])\n",
      "t1: tensor([[0.5232, 0.9508, 0.8201],\n",
      "        [0.4747, 0.3702, 0.8594]])\n",
      "t2: tensor([[0.7494, 0.7588, 0.7683],\n",
      "        [0.9761, 0.8553, 0.3923]])\n",
      "t3: tensor([[0.5232, 0.9508, 0.8201],\n",
      "        [0.4747, 0.3702, 0.8594],\n",
      "        [0.7494, 0.7588, 0.7683],\n",
      "        [0.9761, 0.8553, 0.3923]])\n"
     ]
    }
   ],
   "source": [
    "\"\"\"텐서 합치기\"\"\"\n",
    "\n",
    "t1 = torch.rand(2,3)\n",
    "t2 = torch.rand(2,3)\n",
    "t3 = torch.cat([t1, t2], dim=0)\n",
    "print(\"t1.shape:\", t1.shape)\n",
    "print(\"t2.shape:\", t2.shape)\n",
    "print(\"t3.shape:\", t3.shape)\n",
    "print(\"t1:\", t1)\n",
    "print(\"t2:\", t2)\n",
    "print(\"t3:\", t3)"
   ]
  },
  {
   "cell_type": "code",
   "execution_count": 10,
   "metadata": {},
   "outputs": [
    {
     "name": "stdout",
     "output_type": "stream",
     "text": [
      "t1: tensor([[1, 1],\n",
      "        [1, 1]])\n",
      "t2: tensor([[2, 2],\n",
      "        [2, 2]])\n",
      "t3: tensor([[0, 0],\n",
      "        [0, 0]])\n",
      "----\n",
      "t1 @ t2: tensor([[4, 4],\n",
      "        [4, 4]])\n",
      "t1.matmul(t2): tensor([[4, 4],\n",
      "        [4, 4]])\n",
      "torch.matmul(t1, t2, out=t3): tensor([[4, 4],\n",
      "        [4, 4]])\n",
      "----\n",
      "t1 * t2: tensor([[2, 2],\n",
      "        [2, 2]])\n",
      "t1.mul(t2): tensor([[2, 2],\n",
      "        [2, 2]])\n",
      "torch.mul(t1, t2, out=t3): tensor([[2, 2],\n",
      "        [2, 2]])\n",
      "----\n",
      "t1.T: tensor([[1, 1],\n",
      "        [1, 1]])\n"
     ]
    }
   ],
   "source": [
    "\"\"\"텐서 산술 연산\"\"\"\n",
    "\n",
    "t1 = torch.tensor([[1,1], [1,1]])\n",
    "t2 = torch.tensor([[2,2], [2,2]])\n",
    "t3 = torch.zeros_like(t1)\n",
    "print(\"t1:\", t1)\n",
    "print(\"t2:\", t2)\n",
    "print(\"t3:\", t3)\n",
    "print(\"----\")\n",
    "\n",
    "# 행렬 곱셈\n",
    "print(\"t1 @ t2:\", t1 @ t2)\n",
    "print(\"t1.matmul(t2):\", t1.matmul(t2))\n",
    "torch.matmul(t1, t2, out=t3)\n",
    "print(\"torch.matmul(t1, t2, out=t3):\", t3)\n",
    "print(\"----\")\n",
    "\n",
    "# 행렬 요소별 곱셈\n",
    "print(\"t1 * t2:\", t1 * t2)\n",
    "print(\"t1.mul(t2):\", t1.mul(t2))\n",
    "torch.mul(t1, t2, out=t3)\n",
    "print(\"torch.mul(t1, t2, out=t3):\", t3)\n",
    "print(\"----\")\n",
    "\n",
    "# 전치transpose 행렬\n",
    "print(\"t1.T:\", t1.T)\n"
   ]
  },
  {
   "cell_type": "code",
   "execution_count": 11,
   "metadata": {},
   "outputs": [
    {
     "name": "stdout",
     "output_type": "stream",
     "text": [
      "t1: tensor([[1, 1],\n",
      "        [0, 1]])\n",
      "agg = t1.sum(): tensor(3) <class 'torch.Tensor'>\n",
      "agg.item(): 3 <class 'int'>\n"
     ]
    }
   ],
   "source": [
    "\"\"\"텐서 집계aggregate\"\"\"\n",
    "\n",
    "t1 = torch.tensor([[1,1], [0,1]])\n",
    "agg = t1.sum()\n",
    "print(\"t1:\", t1)\n",
    "print(\"agg = t1.sum():\",agg, type(agg))\n",
    "print(\"agg.item():\", agg.item(), type(agg.item()))\n"
   ]
  },
  {
   "cell_type": "code",
   "execution_count": 12,
   "metadata": {},
   "outputs": [
    {
     "name": "stdout",
     "output_type": "stream",
     "text": [
      "t1: tensor([[0., 0., 0., 0., 0.],\n",
      "        [0., 0., 0., 0., 0.],\n",
      "        [0., 0., 0., 0., 0.],\n",
      "        [0., 0., 0., 0., 0.],\n",
      "        [0., 0., 0., 0., 0.]])\n",
      "t1: tensor([[1., 1., 1., 1., 1.],\n",
      "        [1., 1., 1., 1., 1.],\n",
      "        [1., 1., 1., 1., 1.],\n",
      "        [1., 1., 1., 1., 1.],\n",
      "        [1., 1., 1., 1., 1.]])\n"
     ]
    }
   ],
   "source": [
    "\"\"\"텐서 바꿔치기in-place 연산\n",
    "\n",
    "연산 결과를 피연산자에 저장하는 연산.\n",
    "바꿔치기 연산은 메모리를 절약하지만,\n",
    "기록이 즉시 삭제되어 도함수derivative 계산에 문제가 발생할 수 있음.\n",
    "사용권장 X\n",
    "\"\"\"\n",
    "\n",
    "t1 = torch.zeros(5,5)\n",
    "print(\"t1:\", t1)\n",
    "t1.add_(1)\n",
    "print(\"t1:\", t1)"
   ]
  },
  {
   "cell_type": "code",
   "execution_count": 13,
   "metadata": {},
   "outputs": [
    {
     "name": "stdout",
     "output_type": "stream",
     "text": [
      "t: tensor([0., 0., 0., 0., 0.]) <class 'torch.Tensor'>\n",
      "n: [0. 0. 0. 0. 0.] <class 'numpy.ndarray'>\n",
      "t.add_(1): tensor([1., 1., 1., 1., 1.]) <class 'torch.Tensor'>\n",
      "n: [1. 1. 1. 1. 1.]\n"
     ]
    }
   ],
   "source": [
    "\"\"\"Tensor를 NumPy 배열로 변환하기\"\"\"\n",
    "\n",
    "t = torch.zeros(5)\n",
    "n = t.numpy()\n",
    "print(\"t:\", t, type(t))\n",
    "print(\"n:\", n, type(n))\n",
    "\n",
    "t.add_(1)\n",
    "print(\"t.add_(1):\", t, type(t))\n",
    "print(\"n:\", n) # 위와 같은 결과"
   ]
  },
  {
   "cell_type": "code",
   "execution_count": 14,
   "metadata": {},
   "outputs": [
    {
     "name": "stdout",
     "output_type": "stream",
     "text": [
      "n: [1. 1. 1. 1. 1.] <class 'numpy.ndarray'>\n",
      "t: tensor([1., 1., 1., 1., 1.], dtype=torch.float64) <class 'torch.Tensor'>\n",
      "n: [100.   1.   1.   1.   1.] <class 'numpy.ndarray'>\n",
      "t: tensor([100.,   1.,   1.,   1.,   1.], dtype=torch.float64) <class 'torch.Tensor'>\n",
      "n: [200.   1.   1.   1.   1.] <class 'numpy.ndarray'>\n",
      "t: tensor([200.,   1.,   1.,   1.,   1.], dtype=torch.float64) <class 'torch.Tensor'>\n"
     ]
    }
   ],
   "source": [
    "\"\"\"NumPy 배열을 Tensor로 변환하기\"\"\"\n",
    "\n",
    "n = np.ones(5)\n",
    "t = torch.from_numpy(n)\n",
    "print(\"n:\", n, type(n))\n",
    "print(\"t:\", t, type(t))\n",
    "n[0] = 100\n",
    "print(\"n:\", n, type(n))\n",
    "print(\"t:\", t, type(t))\n",
    "t[0] = 200\n",
    "print(\"n:\", n, type(n))\n",
    "print(\"t:\", t, type(t))"
   ]
  }
 ],
 "metadata": {
  "kernelspec": {
   "display_name": "Python 3",
   "language": "python",
   "name": "python3"
  },
  "language_info": {
   "codemirror_mode": {
    "name": "ipython",
    "version": 3
   },
   "file_extension": ".py",
   "mimetype": "text/x-python",
   "name": "python",
   "nbconvert_exporter": "python",
   "pygments_lexer": "ipython3",
   "version": "3.10.6"
  }
 },
 "nbformat": 4,
 "nbformat_minor": 2
}
