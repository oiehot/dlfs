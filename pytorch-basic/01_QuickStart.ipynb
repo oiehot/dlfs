{
 "cells": [
  {
   "cell_type": "code",
   "execution_count": 1,
   "metadata": {},
   "outputs": [
    {
     "name": "stderr",
     "output_type": "stream",
     "text": [
      "c:\\Python310\\lib\\site-packages\\tqdm\\auto.py:21: TqdmWarning: IProgress not found. Please update jupyter and ipywidgets. See https://ipywidgets.readthedocs.io/en/stable/user_install.html\n",
      "  from .autonotebook import tqdm as notebook_tqdm\n"
     ]
    }
   ],
   "source": [
    "import torch\n",
    "from torch import nn\n",
    "from torch.utils.data import DataLoader\n",
    "from torchvision import datasets\n",
    "from torchvision.transforms import ToTensor"
   ]
  },
  {
   "cell_type": "code",
   "execution_count": 2,
   "metadata": {},
   "outputs": [
    {
     "name": "stdout",
     "output_type": "stream",
     "text": [
      "Downloading http://fashion-mnist.s3-website.eu-central-1.amazonaws.com/train-images-idx3-ubyte.gz\n",
      "Downloading http://fashion-mnist.s3-website.eu-central-1.amazonaws.com/train-images-idx3-ubyte.gz to data\\FashionMNIST\\raw\\train-images-idx3-ubyte.gz\n"
     ]
    },
    {
     "name": "stderr",
     "output_type": "stream",
     "text": [
      "100%|██████████| 26421880/26421880 [00:02<00:00, 10299725.19it/s]\n"
     ]
    },
    {
     "name": "stdout",
     "output_type": "stream",
     "text": [
      "Extracting data\\FashionMNIST\\raw\\train-images-idx3-ubyte.gz to data\\FashionMNIST\\raw\n",
      "\n",
      "Downloading http://fashion-mnist.s3-website.eu-central-1.amazonaws.com/train-labels-idx1-ubyte.gz\n",
      "Downloading http://fashion-mnist.s3-website.eu-central-1.amazonaws.com/train-labels-idx1-ubyte.gz to data\\FashionMNIST\\raw\\train-labels-idx1-ubyte.gz\n"
     ]
    },
    {
     "name": "stderr",
     "output_type": "stream",
     "text": [
      "100%|██████████| 29515/29515 [00:00<00:00, 104482.98it/s]\n"
     ]
    },
    {
     "name": "stdout",
     "output_type": "stream",
     "text": [
      "Extracting data\\FashionMNIST\\raw\\train-labels-idx1-ubyte.gz to data\\FashionMNIST\\raw\n",
      "\n",
      "Downloading http://fashion-mnist.s3-website.eu-central-1.amazonaws.com/t10k-images-idx3-ubyte.gz\n",
      "Downloading http://fashion-mnist.s3-website.eu-central-1.amazonaws.com/t10k-images-idx3-ubyte.gz to data\\FashionMNIST\\raw\\t10k-images-idx3-ubyte.gz\n"
     ]
    },
    {
     "name": "stderr",
     "output_type": "stream",
     "text": [
      "100%|██████████| 4422102/4422102 [00:00<00:00, 7748215.74it/s]\n"
     ]
    },
    {
     "name": "stdout",
     "output_type": "stream",
     "text": [
      "Extracting data\\FashionMNIST\\raw\\t10k-images-idx3-ubyte.gz to data\\FashionMNIST\\raw\n",
      "\n",
      "Downloading http://fashion-mnist.s3-website.eu-central-1.amazonaws.com/t10k-labels-idx1-ubyte.gz\n",
      "Downloading http://fashion-mnist.s3-website.eu-central-1.amazonaws.com/t10k-labels-idx1-ubyte.gz to data\\FashionMNIST\\raw\\t10k-labels-idx1-ubyte.gz\n"
     ]
    },
    {
     "name": "stderr",
     "output_type": "stream",
     "text": [
      "100%|██████████| 5148/5148 [00:00<?, ?it/s]"
     ]
    },
    {
     "name": "stdout",
     "output_type": "stream",
     "text": [
      "Extracting data\\FashionMNIST\\raw\\t10k-labels-idx1-ubyte.gz to data\\FashionMNIST\\raw\n",
      "\n"
     ]
    },
    {
     "name": "stderr",
     "output_type": "stream",
     "text": [
      "\n"
     ]
    }
   ],
   "source": [
    "\"\"\"\n",
    "공개 데이터셋에서 학습, 테스트 데이터 내려받기.\n",
    "\"\"\"\n",
    "\n",
    "training_data = datasets.FashionMNIST(\n",
    "    root=\"data\",\n",
    "    train=True,\n",
    "    download=True,\n",
    "    transform=ToTensor(),\n",
    ")\n",
    "\n",
    "test_data = datasets.FashionMNIST(\n",
    "    root=\"data\",\n",
    "    train=False,\n",
    "    download=True,\n",
    "    transform=ToTensor(),\n",
    ")"
   ]
  },
  {
   "cell_type": "code",
   "execution_count": 4,
   "metadata": {},
   "outputs": [
    {
     "name": "stdout",
     "output_type": "stream",
     "text": [
      "Shape of X [N, C, H, W]: torch.Size([64, 1, 28, 28])\n",
      "Shape of y: torch.Size([64]) torch.int64\n"
     ]
    }
   ],
   "source": [
    "\"\"\"\n",
    "훈련, 테스트데이터 배치로 로드하기\n",
    "\"\"\"\n",
    "batch_size = 64\n",
    "train_dataloader = DataLoader(training_data, batch_size=batch_size)\n",
    "test_dataloader  = DataLoader(test_data, batch_size=batch_size)\n",
    "\n",
    "for X, y  in test_dataloader:\n",
    "  print(\"Shape of X [N, C, H, W]:\", X.shape)\n",
    "  print(\"Shape of y:\", y.shape, y.dtype)\n",
    "  break"
   ]
  },
  {
   "cell_type": "code",
   "execution_count": 6,
   "metadata": {},
   "outputs": [
    {
     "name": "stdout",
     "output_type": "stream",
     "text": [
      "device: cuda\n"
     ]
    }
   ],
   "source": [
    "\"\"\"\n",
    "사용 가능한 장치 확인하기\n",
    "\"\"\"\n",
    "device = (\n",
    "    \"cuda\" if torch.cuda.is_available() else \"mps\" if torch.backends.mps.is_available() else \"cpu\"\n",
    ")\n",
    "print(\"device:\", device)\n"
   ]
  },
  {
   "cell_type": "code",
   "execution_count": 7,
   "metadata": {},
   "outputs": [
    {
     "name": "stdout",
     "output_type": "stream",
     "text": [
      "model: NeuralNetwork(\n",
      "  (flatten): Flatten(start_dim=1, end_dim=-1)\n",
      "  (linear_relu_stack): Sequential(\n",
      "    (0): Linear(in_features=784, out_features=512, bias=True)\n",
      "    (1): ReLU()\n",
      "    (2): Linear(in_features=512, out_features=512, bias=True)\n",
      "    (3): ReLU()\n",
      "    (4): Linear(in_features=512, out_features=10, bias=True)\n",
      "  )\n",
      ")\n"
     ]
    }
   ],
   "source": [
    "\"\"\"\n",
    "신경망 모델 만들기\n",
    "\"\"\"\n",
    "\n",
    "class NeuralNetwork(nn.Module):\n",
    "  def __init__(self):\n",
    "    super().__init__()\n",
    "\n",
    "    # nn.Flatten: 다차원 입력을 1차원으로 변환해줌. ex) [4, 3, 28, 28] => [4, 2352]\n",
    "    self.flatten = nn.Flatten()\n",
    "\n",
    "    # nn.Linear: Affine 레이어\n",
    "    # nn.Sequential: 신경망 체인 만들기.\n",
    "    self.linear_relu_stack = nn.Sequential(\n",
    "      nn.Linear(28*28, 512),\n",
    "      nn.ReLU(),\n",
    "      nn.Linear(512, 512),\n",
    "      nn.ReLU(),\n",
    "      nn.Linear(512, 10)\n",
    "    )\n",
    "  \n",
    "  def forward(self, x):\n",
    "    x = self.flatten(x)\n",
    "    logits = self.linear_relu_stack(x)\n",
    "    return logits\n",
    "\n",
    "model = NeuralNetwork().to(device)\n",
    "print(\"model:\", model)"
   ]
  },
  {
   "cell_type": "code",
   "execution_count": 9,
   "metadata": {},
   "outputs": [
    {
     "name": "stdout",
     "output_type": "stream",
     "text": [
      "loss function: CrossEntropyLoss()\n",
      "optimizer: SGD (\n",
      "Parameter Group 0\n",
      "    dampening: 0\n",
      "    differentiable: False\n",
      "    foreach: None\n",
      "    lr: 0.001\n",
      "    maximize: False\n",
      "    momentum: 0\n",
      "    nesterov: False\n",
      "    weight_decay: 0\n",
      ")\n"
     ]
    }
   ],
   "source": [
    "\"\"\"\n",
    "모델 학습을 위해 손실함수(loss function)와 옵티마이저(optimizer) 준비하기.\n",
    "\"\"\"\n",
    "\n",
    "loss_fn = nn.CrossEntropyLoss()\n",
    "optimizer = torch.optim.SGD(model.parameters(), lr=1e-3)\n",
    "\n",
    "print(\"loss function:\", loss_fn)\n",
    "print(\"optimizer:\", optimizer)"
   ]
  },
  {
   "cell_type": "code",
   "execution_count": null,
   "metadata": {},
   "outputs": [],
   "source": [
    "\"\"\"\n",
    "각 학습데이터셋에 대해 추론 후\n",
    "역전파를 수행해 각 신경망의 미분값을 얻고\n",
    "이를 바탕으로 경사하강법을 사용해 매개변수를 조절한다(SGD)\n",
    "\"\"\"\n",
    "\n",
    "def train(dataloader, model, loss_fn, optimizer):\n",
    "  size = len(dataloader.dataset)\n",
    "  for batch, (X, y) in enumerate(dataloader):\n",
    "    X, y = X.to(device), y.to(device)\n",
    "\n",
    "    # 예측 오류 계산\n",
    "    pred = model(X)\n",
    "    loss = loss_fn(pred, y)\n",
    "\n",
    "    # 역전파\n",
    "    loss.backward()\n",
    "    optimizer.step()\n",
    "    optimizer.zero_grad()\n",
    "\n",
    "    if batch % 100 == 0:\n",
    "      loss, current = loss.item(), (batch + 1) * len(X)\n",
    "      print(f\"loss: {loss:>7f}  [{current:>5d}/{size:>5d}]\")"
   ]
  },
  {
   "cell_type": "code",
   "execution_count": null,
   "metadata": {},
   "outputs": [],
   "source": [
    "\"\"\"\n",
    "테스트 데이터를 통해 추론하고 추론 결과를 정답지와 비교 후 정답률을 계산하여 출력한다.\n",
    "\"\"\"\n",
    "\n",
    "def test(dataloader, model, loss_fn):\n",
    "  size = len(dataloader.dataset)\n",
    "  num_batches = len(dataloader)\n",
    "  model.eval()\n",
    "  test_loss, correct = 0, 0\n",
    "  with torch.no_grad():\n",
    "    for X, y in dataloader:\n",
    "      X, y = X.to(device), y.to(device)\n",
    "      pred = model(X)\n",
    "      test_loss += loss_fn(pred, y).item()\n",
    "      correct += (pred.argmax(1) == y).type(torch.float).sum().item()\n",
    "  test_loss /= num_batches\n",
    "  correct /= size\n",
    "  print(f\"Test Error: \\n Accuracy: {(100*correct):>0.1f}%, Avg loss: {test_loss:>8f} \\n\")"
   ]
  },
  {
   "cell_type": "code",
   "execution_count": 17,
   "metadata": {},
   "outputs": [
    {
     "name": "stdout",
     "output_type": "stream",
     "text": [
      "Epoch 1\n",
      "-------------------------------\n",
      "loss: 0.247496  [   64/60000]\n",
      "loss: 0.374708  [ 6464/60000]\n",
      "loss: 0.235761  [12864/60000]\n",
      "loss: 0.417732  [19264/60000]\n",
      "loss: 0.322195  [25664/60000]\n",
      "loss: 0.369642  [32064/60000]\n",
      "loss: 0.357188  [38464/60000]\n",
      "loss: 0.554614  [44864/60000]\n",
      "loss: 0.474774  [51264/60000]\n",
      "loss: 0.364034  [57664/60000]\n",
      "Test Error: \n",
      " Accuracy: 85.7%, Avg loss: 0.407172 \n",
      "\n",
      "Epoch 2\n",
      "-------------------------------\n",
      "loss: 0.238864  [   64/60000]\n",
      "loss: 0.373325  [ 6464/60000]\n",
      "loss: 0.234540  [12864/60000]\n",
      "loss: 0.416216  [19264/60000]\n",
      "loss: 0.321734  [25664/60000]\n",
      "loss: 0.369122  [32064/60000]\n",
      "loss: 0.357015  [38464/60000]\n",
      "loss: 0.553489  [44864/60000]\n",
      "loss: 0.473667  [51264/60000]\n",
      "loss: 0.363594  [57664/60000]\n",
      "Test Error: \n",
      " Accuracy: 85.7%, Avg loss: 0.406664 \n",
      "\n",
      "Epoch 3\n",
      "-------------------------------\n",
      "loss: 0.238370  [   64/60000]\n",
      "loss: 0.372569  [ 6464/60000]\n",
      "loss: 0.234077  [12864/60000]\n",
      "loss: 0.415139  [19264/60000]\n",
      "loss: 0.321021  [25664/60000]\n",
      "loss: 0.368545  [32064/60000]\n",
      "loss: 0.356542  [38464/60000]\n",
      "loss: 0.552430  [44864/60000]\n",
      "loss: 0.472664  [51264/60000]\n",
      "loss: 0.363172  [57664/60000]\n",
      "Test Error: \n",
      " Accuracy: 85.7%, Avg loss: 0.406153 \n",
      "\n",
      "Epoch 4\n",
      "-------------------------------\n",
      "loss: 0.237959  [   64/60000]\n",
      "loss: 0.371821  [ 6464/60000]\n",
      "loss: 0.233649  [12864/60000]\n",
      "loss: 0.414182  [19264/60000]\n",
      "loss: 0.320267  [25664/60000]\n",
      "loss: 0.367883  [32064/60000]\n",
      "loss: 0.355951  [38464/60000]\n",
      "loss: 0.551403  [44864/60000]\n",
      "loss: 0.471848  [51264/60000]\n",
      "loss: 0.362813  [57664/60000]\n",
      "Test Error: \n",
      " Accuracy: 85.7%, Avg loss: 0.405652 \n",
      "\n",
      "Epoch 5\n",
      "-------------------------------\n",
      "loss: 0.237585  [   64/60000]\n",
      "loss: 0.371067  [ 6464/60000]\n",
      "loss: 0.233226  [12864/60000]\n",
      "loss: 0.413221  [19264/60000]\n",
      "loss: 0.319468  [25664/60000]\n",
      "loss: 0.367200  [32064/60000]\n",
      "loss: 0.355343  [38464/60000]\n",
      "loss: 0.550428  [44864/60000]\n",
      "loss: 0.471072  [51264/60000]\n",
      "loss: 0.362391  [57664/60000]\n",
      "Test Error: \n",
      " Accuracy: 85.7%, Avg loss: 0.405146 \n",
      "\n",
      "Epoch 6\n",
      "-------------------------------\n",
      "loss: 0.237170  [   64/60000]\n",
      "loss: 0.370328  [ 6464/60000]\n",
      "loss: 0.232824  [12864/60000]\n",
      "loss: 0.412316  [19264/60000]\n",
      "loss: 0.318710  [25664/60000]\n",
      "loss: 0.366527  [32064/60000]\n",
      "loss: 0.354675  [38464/60000]\n",
      "loss: 0.549502  [44864/60000]\n",
      "loss: 0.470292  [51264/60000]\n",
      "loss: 0.362040  [57664/60000]\n",
      "Test Error: \n",
      " Accuracy: 85.7%, Avg loss: 0.404645 \n",
      "\n",
      "Epoch 7\n",
      "-------------------------------\n",
      "loss: 0.236855  [   64/60000]\n",
      "loss: 0.369614  [ 6464/60000]\n",
      "loss: 0.232459  [12864/60000]\n",
      "loss: 0.411431  [19264/60000]\n",
      "loss: 0.317965  [25664/60000]\n",
      "loss: 0.365899  [32064/60000]\n",
      "loss: 0.354051  [38464/60000]\n",
      "loss: 0.548602  [44864/60000]\n",
      "loss: 0.469562  [51264/60000]\n",
      "loss: 0.361693  [57664/60000]\n",
      "Test Error: \n",
      " Accuracy: 85.7%, Avg loss: 0.404145 \n",
      "\n",
      "Epoch 8\n",
      "-------------------------------\n",
      "loss: 0.236528  [   64/60000]\n",
      "loss: 0.368930  [ 6464/60000]\n",
      "loss: 0.232128  [12864/60000]\n",
      "loss: 0.410513  [19264/60000]\n",
      "loss: 0.317238  [25664/60000]\n",
      "loss: 0.365249  [32064/60000]\n",
      "loss: 0.353387  [38464/60000]\n",
      "loss: 0.547773  [44864/60000]\n",
      "loss: 0.468877  [51264/60000]\n",
      "loss: 0.361283  [57664/60000]\n",
      "Test Error: \n",
      " Accuracy: 85.7%, Avg loss: 0.403648 \n",
      "\n",
      "Epoch 9\n",
      "-------------------------------\n",
      "loss: 0.236235  [   64/60000]\n",
      "loss: 0.368265  [ 6464/60000]\n",
      "loss: 0.231773  [12864/60000]\n",
      "loss: 0.409615  [19264/60000]\n",
      "loss: 0.316528  [25664/60000]\n",
      "loss: 0.364632  [32064/60000]\n",
      "loss: 0.352706  [38464/60000]\n",
      "loss: 0.546909  [44864/60000]\n",
      "loss: 0.468064  [51264/60000]\n",
      "loss: 0.360906  [57664/60000]\n",
      "Test Error: \n",
      " Accuracy: 85.8%, Avg loss: 0.403149 \n",
      "\n",
      "Epoch 10\n",
      "-------------------------------\n",
      "loss: 0.235959  [   64/60000]\n",
      "loss: 0.367530  [ 6464/60000]\n",
      "loss: 0.231435  [12864/60000]\n",
      "loss: 0.408729  [19264/60000]\n",
      "loss: 0.315807  [25664/60000]\n",
      "loss: 0.363925  [32064/60000]\n",
      "loss: 0.352097  [38464/60000]\n",
      "loss: 0.546040  [44864/60000]\n",
      "loss: 0.467350  [51264/60000]\n",
      "loss: 0.360537  [57664/60000]\n",
      "Test Error: \n",
      " Accuracy: 85.8%, Avg loss: 0.402665 \n",
      "\n",
      "Done!\n"
     ]
    }
   ],
   "source": [
    "\"\"\"\n",
    "신경망을 훈련 후 테스트하여 정확도를 파악한다.\n",
    "\"\"\"\n",
    "\n",
    "epochs = 10\n",
    "for t in range(epochs):\n",
    "  print(f\"Epoch {t+1}\\n-------------------------------\")\n",
    "  train(train_dataloader, model, loss_fn, optimizer)\n",
    "  test(test_dataloader, model, loss_fn)\n",
    "print(\"Done!\")"
   ]
  },
  {
   "cell_type": "code",
   "execution_count": 24,
   "metadata": {},
   "outputs": [
    {
     "name": "stdout",
     "output_type": "stream",
     "text": [
      "model saved\n"
     ]
    }
   ],
   "source": [
    "\"\"\"\n",
    "모델 저장하기\n",
    "\"\"\"\n",
    "torch.save(model.state_dict(), \"fashion_mnist_model_v1.pth\")"
   ]
  },
  {
   "cell_type": "code",
   "execution_count": 21,
   "metadata": {},
   "outputs": [
    {
     "name": "stdout",
     "output_type": "stream",
     "text": [
      "Test Error: \n",
      " Accuracy: 8.9%, Avg loss: 2.306775 \n",
      "\n",
      "Test Error: \n",
      " Accuracy: 85.8%, Avg loss: 0.402665 \n",
      "\n"
     ]
    }
   ],
   "source": [
    "model = NeuralNetwork().to(device)\n",
    "model.load_state_dict(torch.load(\"fashion_mnist_model_v1.pth\"))"
   ]
  }
 ],
 "metadata": {
  "kernelspec": {
   "display_name": "Python 3",
   "language": "python",
   "name": "python3"
  },
  "language_info": {
   "codemirror_mode": {
    "name": "ipython",
    "version": 3
   },
   "file_extension": ".py",
   "mimetype": "text/x-python",
   "name": "python",
   "nbconvert_exporter": "python",
   "pygments_lexer": "ipython3",
   "version": "3.10.6"
  }
 },
 "nbformat": 4,
 "nbformat_minor": 2
}
