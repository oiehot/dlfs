{
 "cells": [
  {
   "cell_type": "code",
   "execution_count": 114,
   "metadata": {},
   "outputs": [],
   "source": [
    "import numpy as np"
   ]
  },
  {
   "cell_type": "code",
   "execution_count": 115,
   "metadata": {},
   "outputs": [
    {
     "name": "stdout",
     "output_type": "stream",
     "text": [
      "(1, 1, 5, 5)\n",
      "(4, 9)\n",
      "(10, 3, 7, 7)\n",
      "(90, 75)\n"
     ]
    }
   ],
   "source": [
    "def im2col(input_data, filter_h, filter_w, stride=1, pad=0):\n",
    "    \"\"\"다수의 이미지를 입력받아 2차원 배열로 변환한다(평탄화)\n",
    "    (N,C,H,W) => (N*OH*OW, C*FH*FW)\n",
    "    \"\"\"\n",
    "\n",
    "    # N: 배치 수, C: 채널 수, H: 입력 이미지 높이, W: 입력 이미지 너비\n",
    "    N, C, H, W = input_data.shape\n",
    "\n",
    "    # 입력데이터와 필터의 합성곱 연산 결과의 크기를 미리 계산한다.\n",
    "    out_h = (H + 2*pad - filter_h) // stride + 1 # //는 정수 나눗셈 (몫 연산) 이다. (소수점 이하를 버림)\n",
    "    out_w = (W + 2*pad - filter_w) // stride + 1\n",
    "\n",
    "    # 입력데이터에 패딩을 적용한다.\n",
    "    # N차원과 C차원에는 패딩을 적용하지 않고, H와 W차원에만 pad값으로 패딩한다.\n",
    "    img = np.pad(input_data, [(0,0), (0,0), (pad, pad), (pad, pad)], 'constant')\n",
    "\n",
    "    # 0: N - 입력 데이터의 수\n",
    "    # 1: C - 채널 수\n",
    "    # 2: Filter Height\n",
    "    # 3: Filter Width\n",
    "    # 4: Output Height\n",
    "    # 5: Output Width\n",
    "    col = np.zeros((N, C, filter_h, filter_w, out_h, out_w))\n",
    "\n",
    "    # 필터의 높이와 너비에 따라 슬라이딩하며 이미지를 분할한다.\n",
    "    for y in range(filter_h):\n",
    "        y_max = y + stride*out_h\n",
    "\n",
    "        for x in range(filter_w):\n",
    "            x_max = x + stride*out_w\n",
    "\n",
    "            # 슬라이싱을 사용하여 x ~ x_max 범위 안에서 스트라이드 간격으로 데이터를 추출한다.\n",
    "            # 필터가 상위 차원이며, 윈도우가 움직였을 때의 값들을 그 하위 차원으로 저장한다(out_h, out_w)\n",
    "            col[:, :, y, x, :, :] = img[:, :, y:y_max:stride, x:x_max:stride]\n",
    "\n",
    "    # N,C,FH,FW,OH,OW => N,OH,OW,C,FH,FW\n",
    "    # 1) 필터의 차원이 상위에 있던 배열을 슬라이딩 차원(OH, OW)을 상위 차원으로 배치하여 변환한다.\n",
    "    # 2) 행을 배치 수(N) * 슬라이딩 수(OH*OW)로 하고 나머지 요소(C*FH*FW)를 열로하는 2차원 배열로 변환한다.\n",
    "    col = col.transpose(0, 4, 5, 1, 2, 3).reshape(N*out_h*out_w, -1)\n",
    "\n",
    "    return col\n",
    "\n",
    "x1 = np.random.rand(1, 1, 5, 5)\n",
    "col1 = im2col(x1, filter_h=3, filter_w=3, stride=2, pad=0)\n",
    "print(x1.shape)\n",
    "print(col1.shape)\n",
    "\n",
    "x2 = np.random.rand(10, 3, 7, 7)\n",
    "col2 = im2col(x2, 5, 5, stride=1, pad=0)\n",
    "print(x2.shape)\n",
    "print(col2.shape)"
   ]
  },
  {
   "cell_type": "code",
   "execution_count": 116,
   "metadata": {},
   "outputs": [],
   "source": [
    "class ConvolutionLayer:\n",
    "    \"\"\"합성곱 계층\n",
    "    \"\"\"\n",
    "    \n",
    "    def __init__(self, W, b, stride=1, pad=0):\n",
    "        self.W = W # (FN, C, FH, FW)\n",
    "        self.b = b # (FN, )\n",
    "        self.stride = stride\n",
    "        self.pad = pad\n",
    "    \n",
    "    def forward(self, x):\n",
    "        FN, C, FH, FW = self.W.shape\n",
    "        N, C, H, W = x.shape\n",
    "        OH = (H + 2*self.pad - FH) // self.stride + 1\n",
    "        OW = (W + 2*self.pad - FW) // self.stride + 1\n",
    "\n",
    "        col = im2col(x, FH, FW, self.stride, self.pad) # (N,OH,OW,C,FH,FW) => (N*OH*OW, C*FH*FW)\n",
    "        col_W = self.W.reshape(FN, -1).T # (FN, C, FH, FW) => (FN, C*FH*FW) => (C*FH*FW, FN)\n",
    "        out = np.dot(col, col_W) + self.b # (N*OH*OW, C*FH*FW) dot (C*FH*FW, FN) => (N*OH*OW, FN)\n",
    "        out = out.reshape(N, OH, OW, -1) # (N, OH, OW, FN)\n",
    "        out = out.transpose(0, 3, 1, 2) # (N, OH, OW, FN) => (N, FN, OH, OW)\n",
    "        return out"
   ]
  },
  {
   "cell_type": "code",
   "execution_count": null,
   "metadata": {},
   "outputs": [],
   "source": [
    "class PoolingLayer:\n",
    "    \"\"\"풀링 계층\n",
    "    \"\"\"\n",
    "\n",
    "    def __init__(self, pool_h, pool_w, stride=1, pad=0):\n",
    "        self.pool_h = pool_h\n",
    "        self.pool_w = pool_w\n",
    "        self.stride = stride\n",
    "        self.pad = pad\n",
    "\n",
    "    def forward(self, x):\n",
    "        N, C, H, W = x.shape\n",
    "        OH = (H + 2*self.pad - self.pool_h) // self.stride + 1\n",
    "        OW = (W + 2*self.pad - self.pool_w) // self.stride + 1\n",
    "\n",
    "        # (N, C, H, W) => (N, OH, OW, C, PH, PW) => (N*OH*OW, C*PH*PW)\n",
    "        col = im2col(x, self.pool_h, self.pool_w, self.stride, self.pad)\n",
    "\n",
    "        # (N*OH*OW, C*PH*PW) => (N*OH*OW*C, PH*PW)\n",
    "        col = col.reshape(-1, self.pool_h*self.pool_w)\n",
    "\n",
    "        # 열 데이터 중 최대값만 추출하여 행으로 모음.\n",
    "        # (N*OH*OW*C, max(PH*PW))\n",
    "        out = np.max(col, axis=1)\n",
    "\n",
    "        # (N*OH*OW*C, max(PH*PW)) => (N, OH, OW, C) => (N, C, OH, OW)\n",
    "        out = out.reshape(N, OH, OW, C).transpose(0, 3, 1, 2)\n",
    "\n",
    "        return out"
   ]
  }
 ],
 "metadata": {
  "kernelspec": {
   "display_name": "Python 3",
   "language": "python",
   "name": "python3"
  },
  "language_info": {
   "codemirror_mode": {
    "name": "ipython",
    "version": 3
   },
   "file_extension": ".py",
   "mimetype": "text/x-python",
   "name": "python",
   "nbconvert_exporter": "python",
   "pygments_lexer": "ipython3",
   "version": "3.10.6"
  }
 },
 "nbformat": 4,
 "nbformat_minor": 2
}
