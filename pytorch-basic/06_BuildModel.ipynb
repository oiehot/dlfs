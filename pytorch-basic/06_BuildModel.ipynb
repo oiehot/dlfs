{
 "cells": [
  {
   "cell_type": "code",
   "execution_count": 1,
   "metadata": {},
   "outputs": [
    {
     "name": "stderr",
     "output_type": "stream",
     "text": [
      "c:\\Python310\\lib\\site-packages\\tqdm\\auto.py:21: TqdmWarning: IProgress not found. Please update jupyter and ipywidgets. See https://ipywidgets.readthedocs.io/en/stable/user_install.html\n",
      "  from .autonotebook import tqdm as notebook_tqdm\n"
     ]
    }
   ],
   "source": [
    "import os\n",
    "import torch\n",
    "from torch import nn\n",
    "from torch.utils.data import DataLoader\n",
    "from torchvision import datasets, transforms"
   ]
  },
  {
   "cell_type": "code",
   "execution_count": 2,
   "metadata": {},
   "outputs": [
    {
     "name": "stdout",
     "output_type": "stream",
     "text": [
      "Using cuda device\n"
     ]
    }
   ],
   "source": [
    "\"\"\"\n",
    "사용 가능한 장치 얻기.\n",
    "\"\"\"\n",
    "\n",
    "device = (\n",
    "    \"cuda\" if torch.cuda.is_available()\n",
    "    else \"mps\" if torch.backends.mps.is_available()\n",
    "    else \"cpu\"\n",
    ")\n",
    "print(f\"Using {device} device\")"
   ]
  },
  {
   "cell_type": "code",
   "execution_count": 3,
   "metadata": {},
   "outputs": [
    {
     "name": "stdout",
     "output_type": "stream",
     "text": [
      "NeuralNetwork(\n",
      "  (flatten): Flatten(start_dim=1, end_dim=-1)\n",
      "  (linear_relu_stack): Sequential(\n",
      "    (0): Linear(in_features=784, out_features=512, bias=True)\n",
      "    (1): ReLU()\n",
      "    (2): Linear(in_features=512, out_features=512, bias=True)\n",
      "    (3): ReLU()\n",
      "    (4): Linear(in_features=512, out_features=10, bias=True)\n",
      "  )\n",
      ")\n"
     ]
    }
   ],
   "source": [
    "\"\"\"\n",
    "신경망 만들기.\n",
    "\n",
    "nn.Module을 상속받아야 하며 순전파forward 메서드를 구현해야 한다.\n",
    "nn.Linear, nn.ReLU 모두 nn.Module을 상속받은 클래스이다.\n",
    "\"\"\"\n",
    "\n",
    "class NeuralNetwork(nn.Module):\n",
    "\n",
    "\tdef __init__(self):\n",
    "\t\tsuper().__init__()\n",
    "\t\tself.flatten = nn.Flatten()\n",
    "\t\tself.linear_relu_stack = nn.Sequential(\n",
    "\t\t\tnn.Linear(28*28, 512),\n",
    "\t\t\tnn.ReLU(),\n",
    "\t\t\tnn.Linear(512, 512),\n",
    "\t\t\tnn.ReLU(),\n",
    "\t\t\tnn.Linear(512, 10),\n",
    "\t\t)\n",
    "\t\n",
    "\tdef forward(self, x):\n",
    "\t\tx = self.flatten(x)\n",
    "\t\tlogits = self.linear_relu_stack(x)\n",
    "\t\treturn logits\n",
    "\n",
    "model = NeuralNetwork().to(device)\n",
    "print(model)"
   ]
  },
  {
   "cell_type": "code",
   "execution_count": 4,
   "metadata": {},
   "outputs": [
    {
     "name": "stdout",
     "output_type": "stream",
     "text": [
      "Layer: linear_relu_stack.0.weight | Size: torch.Size([512, 784]) | Values : tensor([[ 0.0240, -0.0214,  0.0036,  ...,  0.0232, -0.0303,  0.0170],\n",
      "        [ 0.0099, -0.0113, -0.0112,  ...,  0.0277,  0.0347, -0.0214]],\n",
      "       device='cuda:0', grad_fn=<SliceBackward0>) \n",
      "\n",
      "Layer: linear_relu_stack.0.bias | Size: torch.Size([512]) | Values : tensor([ 0.0121, -0.0141], device='cuda:0', grad_fn=<SliceBackward0>) \n",
      "\n",
      "Layer: linear_relu_stack.2.weight | Size: torch.Size([512, 512]) | Values : tensor([[-0.0146, -0.0003,  0.0235,  ...,  0.0327,  0.0051, -0.0439],\n",
      "        [-0.0239, -0.0432,  0.0165,  ..., -0.0130, -0.0411, -0.0117]],\n",
      "       device='cuda:0', grad_fn=<SliceBackward0>) \n",
      "\n",
      "Layer: linear_relu_stack.2.bias | Size: torch.Size([512]) | Values : tensor([-0.0286, -0.0338], device='cuda:0', grad_fn=<SliceBackward0>) \n",
      "\n",
      "Layer: linear_relu_stack.4.weight | Size: torch.Size([10, 512]) | Values : tensor([[ 0.0437, -0.0114, -0.0183,  ...,  0.0117, -0.0154,  0.0029],\n",
      "        [-0.0411, -0.0094,  0.0413,  ..., -0.0358,  0.0364,  0.0144]],\n",
      "       device='cuda:0', grad_fn=<SliceBackward0>) \n",
      "\n",
      "Layer: linear_relu_stack.4.bias | Size: torch.Size([10]) | Values : tensor([-0.0301, -0.0434], device='cuda:0', grad_fn=<SliceBackward0>) \n",
      "\n"
     ]
    }
   ],
   "source": [
    "\"\"\"\n",
    "신경망의 Parameter 살펴보기.\n",
    "\"\"\"\n",
    "\n",
    "for name, param in model.named_parameters():\n",
    "\tprint(f\"Layer: {name} | Size: {param.size()} | Values : {param[:2]} \\n\")"
   ]
  },
  {
   "cell_type": "code",
   "execution_count": 5,
   "metadata": {},
   "outputs": [
    {
     "name": "stdout",
     "output_type": "stream",
     "text": [
      "X.shape: torch.Size([3, 28, 28]) <class 'torch.Tensor'> cuda:0\n",
      "model.flatten(X).shape: torch.Size([3, 784])\n",
      "layer1: Linear(in_features=784, out_features=20, bias=True) <class 'torch.nn.modules.linear.Linear'>\n",
      "hidden1.shape: torch.Size([3, 20]) <class 'torch.Tensor'> cuda:0\n"
     ]
    }
   ],
   "source": [
    "\"\"\"\n",
    "텐서, nn.Module을 만들고 살펴보기.\n",
    "\"\"\"\n",
    "\n",
    "X = torch.randn(3, 28, 28, device=device)\n",
    "print(\"X.shape:\", X.shape, type(X), X.device)\n",
    "print(\"model.flatten(X).shape:\", model.flatten(X).shape)\n",
    "\n",
    "layer1 = nn.Linear(in_features=28*28, out_features=20).to(device)\n",
    "print(\"layer1:\", layer1, type(layer1))\n",
    "\n",
    "hidden1 = layer1(model.flatten(X))\n",
    "print(\"hidden1.shape:\", hidden1.shape, type(hidden1), hidden1.device)"
   ]
  },
  {
   "cell_type": "code",
   "execution_count": 6,
   "metadata": {},
   "outputs": [
    {
     "name": "stdout",
     "output_type": "stream",
     "text": [
      "Before ReLU: tensor([ 1.4497, -0.6941,  0.6914, -0.3930, -0.2554])\n",
      "After ReLU: tensor([1.4497, 0.0000, 0.6914, 0.0000, 0.0000])\n"
     ]
    }
   ],
   "source": [
    "\"\"\"\n",
    "ReLU 비선형 활성화 함수 사용해보기.\n",
    "\"\"\"\n",
    "\n",
    "x = torch.randn(5)\n",
    "relu = nn.ReLU()\n",
    "print(\"Before ReLU:\", x)\n",
    "x = relu(x)\n",
    "print(\"After ReLU:\", x)"
   ]
  },
  {
   "cell_type": "code",
   "execution_count": 7,
   "metadata": {},
   "outputs": [
    {
     "name": "stdout",
     "output_type": "stream",
     "text": [
      "Predicted class: tensor([3, 3, 3], device='cuda:0')\n"
     ]
    }
   ],
   "source": [
    "\"\"\"\n",
    "Softmax 사용해보기.\n",
    "\"\"\"\n",
    "\n",
    "X = torch.randn(3, 28, 28, device=device)\n",
    "logits = model(X)\n",
    "pred_probab = nn.Softmax(dim=1)(logits)\n",
    "y_pred = pred_probab.argmax(1)\n",
    "print(f\"Predicted class: {y_pred}\")"
   ]
  }
 ],
 "metadata": {
  "kernelspec": {
   "display_name": "Python 3",
   "language": "python",
   "name": "python3"
  },
  "language_info": {
   "codemirror_mode": {
    "name": "ipython",
    "version": 3
   },
   "file_extension": ".py",
   "mimetype": "text/x-python",
   "name": "python",
   "nbconvert_exporter": "python",
   "pygments_lexer": "ipython3",
   "version": "3.10.6"
  }
 },
 "nbformat": 4,
 "nbformat_minor": 2
}
